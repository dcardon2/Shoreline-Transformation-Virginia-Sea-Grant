{
 "cells": [
  {
   "cell_type": "markdown",
   "metadata": {},
   "source": [
    "# Nature-based climate resilience through shoreline transformation\n",
    "Andre de Souza de Lima $^1$; Tyler Miesse $^1$; Daniel Cardona $^1$; Celso Ferreira $^1$; Ali Shahabi $^2$; Navid Tahvildari $^2$ \n",
    "\n",
    "$^1$ Department of Civil, Environmental and Infrastructure Engineering, George Mason University, Fairfax, VA \n",
    "\n",
    "$^2$ Department of Civil and Environmental Engineering, Old Dominion University, Norfolk, VA \n",
    "--- ---"
   ]
  },
  {
   "cell_type": "markdown",
   "metadata": {},
   "source": [
    "<center><img src=\"https://github.com/dcardon2/Photos_for_VASG/blob/dcardon2-canal_photos/biogenic-solutions_53109206880_o.jpg?raw=true\" width = \"825\" height = \"480\" align = \"center\"/></center>"
   ]
  },
  {
   "cell_type": "markdown",
   "metadata": {},
   "source": [
    "## Introduction\n",
    "\n",
    "Global climate change has led to many adverse impacts including changing weather patterns and an increase in the severity and frequency of extreme weather events. Traditional hard engineering solutions for coastal protection, such as seawalls and bulkheads, are becoming inadequate as they do not have the capacity to keep pace with the accelerating impacts of climate change. In response, there is growing interest in Natural and Nature-Based Features (NNBF), which offer innovative and adaptive approaches to coastal protection. NNBFs, such as salt marshes or living shorelines, have demonstrated potential for mitigating wave energy, reducing flood risks, and enhancing coastal resilience. However, the effectiveness of these features can vary based on their physical attributes and the specific environmental conditions in which they are implemented. The inconsistent performance of NNBFs has posed challenges for their widespread adoption, partly due to uncertainties in their efficacy and barriers in public policy.\n",
    "\n",
    "This research focuses on evaluating the performance of NNBFs in attenuating waves through innovative field-scale prototypes and the natural environment. Here we aim to deepen our understanding of how these interventions can contribute to enhancing coastal resilience."
   ]
  },
  {
   "cell_type": "code",
   "execution_count": null,
   "metadata": {},
   "outputs": [],
   "source": [
    "root = pl.Path('C:/Users/decar/OneDrive_George_Mason_University/VASG_prj/Data')\n",
    "\n",
    "def datenum_to_datetime(datenum):\n",
    "    return temp\n",
    "def get_data(fnames, root, file_type = 'before'):\n",
    "    return data\n",
    "def plottable_data(data, *, file_type, x_axis = 'not shared'):\n",
    "    return lines\n",
    "def add_area(region, name, major, minor = 'None'):\n",
    "    return line\n",
    "def updater(fig, xaxis = 'shared'):\n",
    "    return fig\n",
    "def plot_sorter(f_name, file_type = 'before'):\n",
    "    return af\n",
    "def add_data_to_plot(plot, line, file_type='before'):\n",
    "    return plot"
   ]
  },
  {
   "cell_type": "markdown",
   "metadata": {},
   "source": [
    "## Project Site Location: Whittaker Creek Canal\n",
    "\n",
    "--- ---\n",
    "The Whittaker Creek Canal project site is man-made canal located in the Middle Peninsula Chesapeake Bay Planning Access Authority’s (MPCBPAA)\n",
    "Captain Sinclair's Recreation Area (CSRA), in Gloucester County, Virginia. The CRSA has historically been used as a research site for shoreline protection projects, due to its vulnerability to sea level rise driven coastal hazards. The CRSA's Whittaker Creek Canal provides a protected location against coastal hazards typical in the area, thus offering a viable setting for controlled experimentation.\n",
    "\n",
    "\n",
    "<center><img src= https://github.com/dcardon2/Photos_for_VASG/blob/dcardon2-canal_photos/title_photo.jpg?raw=true width = \"780\" height = \"600\"/>\n",
    "            <p style=\"text-align: center; font-size: 10px;\"> Credits: Flood Hazards Research Lab Archives, 2024.</p>"
   ]
  },
  {
   "cell_type": "markdown",
   "metadata": {},
   "source": [
    "### Nature-based Feature Construction \n",
    "This project in partnership with Biogenic Solutions Consulting, LLC (BSC), Old Dominion\n",
    "University (ODU), and George Mason University (GMU) showcased an innovative design\n",
    "to simultaneously address:\n",
    "- The dredging needs of a small creek, including property access by boat,\n",
    "- Shoreline erosion along the adjacent shorelines,\n",
    "- Living shoreline vegetative production, and\n",
    "- Existing building rehabilitation (in this case, Whittaker Creek boat ramp)."
   ]
  },
  {
   "cell_type": "markdown",
   "metadata": {},
   "source": [
    "This initiative involved combining an innovative application of locally dredged materials placed into several geotextile containment tubes (Geotubes™) at the shoreline, prefabricated concrete oyster reef structures, and native salt marsh plants that were transplanted from nearby wetland areas.\n",
    "\n",
    "<center><img src=\"https://github.com/dcardon2/Photos_for_VASG/blob/dcardon2-canal_photos/NNBF_cross_sect.png?raw=true\" width = \"950\" height = \"350 align = \"center\"/></center>\n",
    "\n",
    "<p style=\"font-style: italic; text-align: center\"> Cross section diagrams show the canal's physical properties before (figure on the left) and after (figure on the right) the construction of NNBFs. The diagrams highlight the configuration of NNBFs in the canal, each NNBF's dimensions, and installation methods.</p> \n",
    "<p style=\"text-align: center; font-size: 10px;\"> Credits: Biogenic Solutions Consulting, LLC, 2024</p>"
   ]
  },
  {
   "cell_type": "markdown",
   "metadata": {},
   "source": [
    "After the construction and placement of the oyster reefs and Geotubes™, the result is a protected shoreline along the east, north, and west banks of the Canal. Each bank of the canal provides a different combination of NNBF's; for instance, the west bank offers a combination of oyster reefs and Geotubes™, while the east bank only offers Geotubes™. The north bank is similar to the west bank, in terms of NNBFs provides, but the north bank has an additional line of oyster reef on its eastern half. The varying combinations of NNBFs along the different banks of the canal was to test how hard and soft defenses work together to reduce wave energy. \n",
    "\n",
    "<center><img src=\"https://github.com/dcardon2/Photos_for_VASG/blob/dcardon2-canal_photos/geo_oyster_inplace.jpg?raw=true\" width = \"380\" height = \"400\" align = \"center\"/>\n",
    "<img src=\"https://github.com/dcardon2/Photos_for_VASG/blob/dcardon2-canal_photos/just_oyster.jpg?raw=true\" width = \"380\" height = \"400\" align = \"center\"/></center>\n",
    "\n",
    "<p style=\"font-style: italic; text-align: center\"> Figure on left shows a closer look at the North bank at low tide, highlighting the prefabricated concrete reefs and Geotube; and figure on the right shows prefabricated concrete buttress reef structures to anchor the geotextile</p>\n",
    "<p style=\"text-align: center; font-size: 10px;\"> Credits: Flood Hazards Research Lab Archives, 2024</p>"
   ]
  },
  {
   "cell_type": "markdown",
   "metadata": {},
   "source": [
    "### Field Experiment Design\n",
    "At the Whittaker Creek Canal project site, we conducted two field experiments to evaluate the effectiveness of NNBFs at attenuating boat wakes, which are practical emulators of wind waves and storm surge events. One field experiment was conducted before the construction of the NNBFs at the canal, while the other was done after. During the field experiments we would run the same boat down the canal at varying speeds and weights to produce a diverse set of wakes. The varying set of wakes allowed us to simulate different controlled coastal hazard conditions, and observe the response of the NNBFs. \n",
    "\n",
    "See table and video below to further visualize the experiment design."
   ]
  },
  {
   "cell_type": "markdown",
   "metadata": {},
   "source": [
    "| Boat Run | Boat Speed | Speed Range (MPH) | Boat Weight Type | Boat Weight (lbs) |\n",
    "|:----------|:------------|:-------------------:|:------------------|:-------------------:|\n",
    "| 1 | Slow | 3 - 5 | Light | 2,360 |\n",
    "| 2 | Medium | 7 - 9 | Light | 2,360 |\n",
    "| 3 | Fast | 13 - 17 | Light | 2,360 |\n",
    "| 4 | Slow | 3 - 5 | Light | 2,360 |\n",
    "| 5 | Medium | 7 - 9 | Light | 2,360 |\n",
    "| 6 | Fast | 13 - 17 | Light | 2,360 |\n",
    "| 7 | Slow | 3 - 5 | Light | 2,360 |\n",
    "| 8 | Medium | 7 - 9 | Light | 2,360 |\n",
    "| 9 | Fast | 13 - 17 | Light | 2,360 |\n",
    "| 10 | Slow | 3 - 5 | Heavy | 2,760 |\n",
    "| 11 | Medium |\t7 - 9 | Heavy | 2,760 |\n",
    "| 12 | Fast | 13 - 17 |\tHeavy |\t2,760 |\n",
    "| 13 | Slow | 3 - 5 | Heavy | 2,760 |\n",
    "| 14 | Medium |\t7 - 9 | Heavy | 2,760 |\n",
    "| 15 | Fast | 13 - 17 |\tHeavy |\t2,760 |\n",
    "| 16 | Slow | 3 - 5 | Heavy | 2,760 |\n",
    "| 17 | Medium |\t7 - 9 | Heavy | 2,760 |\n",
    "| 18 | Fast | 13 - 17 |\tHeavy |\t2,760 |\n",
    "\n"
   ]
  },
  {
   "cell_type": "markdown",
   "metadata": {},
   "source": [
    "<p style=\"font-style: italic\"> Table details each boat run, indicating the speeds categorized as slow, medium, and fast, as well as the weights associated with light and heavy boat types.</p>"
   ]
  },
  {
   "cell_type": "markdown",
   "metadata": {},
   "source": [
    "\n",
    "<center>\n",
    "<iframe\n",
    "width=\"560\" height=\"315\" src=\"https://www.youtube.com/embed/VFQr_mSCbyk?si=d27x3omL0OHjCs4s\" \n",
    "title=\"YouTube video player\" frameborder=\"0\" allow=\"accelerometer; autoplay; clipboard-write; encrypted-media; gyroscope; picture-in-picture; web-share\" referrerpolicy=\"strict-origin-when-cross-origin\" allowfullscreen>\n",
    "</iframe>\n",
    "</center>\n",
    "\n",
    "<p style=\"font-style: italic; text-align: center\"> Video shows typical boat trial run at the canal</p>\n",
    "<p style=\"text-align: center; font-size: 10px;\"> Credits: Flood Hazards Research Lab Archives, 2024</p>"
   ]
  },
  {
   "cell_type": "markdown",
   "metadata": {},
   "source": [
    "To compare the results of the two experiments conducted, one before and after the construction of the NNBFs, we deployed RBR solo D wave loggers to record significant wave height data prior to each field experiment. This wave data, combined with the field experiments, enabled us to clearly observe the impacts of the NNBFs on wave energy."
   ]
  },
  {
   "cell_type": "markdown",
   "metadata": {},
   "source": [
    "<center><img src=\"https://github.com/dcardon2/Photos_for_VASG/blob/dcardon2-canal_photos/sensor_instal_1.jpg?raw=true\" width =600\" height = \"400\" align = \"center\"/>\n",
    "<img src=\"https://github.com/dcardon2/Photos_for_VASG/blob/dcardon2-canal_photos/sensor_instal_2.jpg?raw=true\" width = \"600\" height = \"400\" align = \"center\"/></center>\n",
    "\n",
    "<p style=\"font-style: italic; text-align: center\"> Team of researchers from GMU and ODU deploying wave sensors at Whittaker Creek Canal.</p>\n",
    "<p style=\"text-align: center; font-size: 10px;\"> Credits: Lathan Goumas, Virginia Sea Grant.</p>\n",
    "\n",
    "See aerial maps below detailing the location and affiliated NNBF of each wave logger."
   ]
  },
  {
   "cell_type": "code",
   "execution_count": null,
   "metadata": {},
   "outputs": [
    {
     "data": {
      "text/html": [
       "<iframe srcdoc=\"&lt;!DOCTYPE html&gt;\n",
       "&lt;html&gt;\n",
       "&lt;head&gt;\n",
       "    \n",
       "    &lt;meta http-equiv=&quot;content-type&quot; content=&quot;text/html; charset=UTF-8&quot; /&gt;\n",
       "    \n",
       "        &lt;script&gt;\n",
       "            L_NO_TOUCH = false;\n",
       "            L_DISABLE_3D = false;\n",
       "        &lt;/script&gt;\n",
       "    \n",
       "    &lt;style&gt;html, body {width: 100%;height: 100%;margin: 0;padding: 0;}&lt;/style&gt;\n",
       "    &lt;style&gt;#map {position:absolute;top:0;bottom:0;right:0;left:0;}&lt;/style&gt;\n",
       "    &lt;script src=&quot;https://cdn.jsdelivr.net/npm/leaflet@1.9.3/dist/leaflet.js&quot;&gt;&lt;/script&gt;\n",
       "    &lt;script src=&quot;https://code.jquery.com/jquery-3.7.1.min.js&quot;&gt;&lt;/script&gt;\n",
       "    &lt;script src=&quot;https://cdn.jsdelivr.net/npm/bootstrap@5.2.2/dist/js/bootstrap.bundle.min.js&quot;&gt;&lt;/script&gt;\n",
       "    &lt;script src=&quot;https://cdnjs.cloudflare.com/ajax/libs/Leaflet.awesome-markers/2.0.2/leaflet.awesome-markers.js&quot;&gt;&lt;/script&gt;\n",
       "    &lt;link rel=&quot;stylesheet&quot; href=&quot;https://cdn.jsdelivr.net/npm/leaflet@1.9.3/dist/leaflet.css&quot;/&gt;\n",
       "    &lt;link rel=&quot;stylesheet&quot; href=&quot;https://cdn.jsdelivr.net/npm/bootstrap@5.2.2/dist/css/bootstrap.min.css&quot;/&gt;\n",
       "    &lt;link rel=&quot;stylesheet&quot; href=&quot;https://netdna.bootstrapcdn.com/bootstrap/3.0.0/css/bootstrap-glyphicons.css&quot;/&gt;\n",
       "    &lt;link rel=&quot;stylesheet&quot; href=&quot;https://cdn.jsdelivr.net/npm/@fortawesome/fontawesome-free@6.2.0/css/all.min.css&quot;/&gt;\n",
       "    &lt;link rel=&quot;stylesheet&quot; href=&quot;https://cdnjs.cloudflare.com/ajax/libs/Leaflet.awesome-markers/2.0.2/leaflet.awesome-markers.css&quot;/&gt;\n",
       "    &lt;link rel=&quot;stylesheet&quot; href=&quot;https://cdn.jsdelivr.net/gh/python-visualization/folium/folium/templates/leaflet.awesome.rotate.min.css&quot;/&gt;\n",
       "    \n",
       "            &lt;meta name=&quot;viewport&quot; content=&quot;width=device-width,\n",
       "                initial-scale=1.0, maximum-scale=1.0, user-scalable=no&quot; /&gt;\n",
       "            &lt;style&gt;\n",
       "                #map_55a13768e4ae7a769487a75c90d786c6 {\n",
       "                    position: relative;\n",
       "                    width: 100.0%;\n",
       "                    height: 100.0%;\n",
       "                    left: 0.0%;\n",
       "                    top: 0.0%;\n",
       "                }\n",
       "                .leaflet-container { font-size: 1rem; }\n",
       "            &lt;/style&gt;\n",
       "        \n",
       "&lt;/head&gt;\n",
       "&lt;body&gt;\n",
       "    \n",
       "    \n",
       "            &lt;div class=&quot;folium-map&quot; id=&quot;map_55a13768e4ae7a769487a75c90d786c6&quot; &gt;&lt;/div&gt;\n",
       "        \n",
       "&lt;/body&gt;\n",
       "&lt;script&gt;\n",
       "    \n",
       "    \n",
       "            var map_55a13768e4ae7a769487a75c90d786c6 = L.map(\n",
       "                &quot;map_55a13768e4ae7a769487a75c90d786c6&quot;,\n",
       "                {\n",
       "                    center: [37.3308779340014, -76.43010572691506],\n",
       "                    crs: L.CRS.EPSG3857,\n",
       "                    zoom: 18.45,\n",
       "                    zoomControl: true,\n",
       "                    preferCanvas: false,\n",
       "                }\n",
       "            );\n",
       "\n",
       "            \n",
       "\n",
       "        \n",
       "    \n",
       "            var tile_layer_6b5dfd74e4abf08059e28383487ed123 = L.tileLayer(\n",
       "                &quot;https://tile.openstreetmap.org/{z}/{x}/{y}.png&quot;,\n",
       "                {&quot;attribution&quot;: &quot;\\u0026copy; \\u003ca href=\\&quot;https://www.openstreetmap.org/copyright\\&quot;\\u003eOpenStreetMap\\u003c/a\\u003e contributors&quot;, &quot;detectRetina&quot;: false, &quot;maxNativeZoom&quot;: 19, &quot;maxZoom&quot;: 19, &quot;minZoom&quot;: 0, &quot;noWrap&quot;: false, &quot;opacity&quot;: 1, &quot;subdomains&quot;: &quot;abc&quot;, &quot;tms&quot;: false}\n",
       "            );\n",
       "        \n",
       "    \n",
       "            tile_layer_6b5dfd74e4abf08059e28383487ed123.addTo(map_55a13768e4ae7a769487a75c90d786c6);\n",
       "        \n",
       "    \n",
       "            var tile_layer_27a7f036d3f87de8110fcb748de8e102 = L.tileLayer(\n",
       "                &quot;https://server.arcgisonline.com/ArcGIS/rest/services/World_Imagery/MapServer/tile/{z}/{y}/{x}&quot;,\n",
       "                {&quot;attribution&quot;: &quot;Esri&quot;, &quot;detectRetina&quot;: false, &quot;maxZoom&quot;: 18, &quot;minZoom&quot;: 0, &quot;noWrap&quot;: false, &quot;opacity&quot;: 1, &quot;subdomains&quot;: &quot;abc&quot;, &quot;tms&quot;: false}\n",
       "            );\n",
       "        \n",
       "    \n",
       "            tile_layer_27a7f036d3f87de8110fcb748de8e102.addTo(map_55a13768e4ae7a769487a75c90d786c6);\n",
       "        \n",
       "    \n",
       "            var feature_group_0b83c62b1c0dab19366e8f2df48fbb74 = L.featureGroup(\n",
       "                {}\n",
       "            );\n",
       "        \n",
       "    \n",
       "            var circle_marker_c3b3057049cd2ceaedd3ba3106321d15 = L.circleMarker(\n",
       "                [37.331248, -76.430311],\n",
       "                {&quot;bubblingMouseEvents&quot;: true, &quot;color&quot;: &quot;#D81B1B&quot;, &quot;dashArray&quot;: null, &quot;dashOffset&quot;: null, &quot;fill&quot;: true, &quot;fillColor&quot;: &quot;#D81B1B&quot;, &quot;fillOpacity&quot;: 0.7, &quot;fillRule&quot;: &quot;evenodd&quot;, &quot;lineCap&quot;: &quot;round&quot;, &quot;lineJoin&quot;: &quot;round&quot;, &quot;opacity&quot;: 1.0, &quot;radius&quot;: 3, &quot;stroke&quot;: true, &quot;weight&quot;: 2}\n",
       "            ).addTo(feature_group_0b83c62b1c0dab19366e8f2df48fbb74);\n",
       "        \n",
       "    \n",
       "        var popup_eda9c2bc152db6eff180b6966d0b516c = L.popup({&quot;maxWidth&quot;: &quot;100%&quot;});\n",
       "\n",
       "        \n",
       "            \n",
       "                var html_f9e897627af0a21435972a33a273f2c3 = $(`&lt;div id=&quot;html_f9e897627af0a21435972a33a273f2c3&quot; style=&quot;width: 100.0%; height: 100.0%;&quot;&gt;&lt;table border=&quot;1&quot; class=&quot;dataframe table table-striped table-hover table-condensed table-responsive&quot;&gt;   &lt;thead&gt;     &lt;tr style=&quot;text-align: right;&quot;&gt;       &lt;th&gt;&lt;/th&gt;       &lt;th&gt;Oyster Only&lt;/th&gt;     &lt;/tr&gt;   &lt;/thead&gt;   &lt;tbody&gt;     &lt;tr&gt;       &lt;th&gt;0&lt;/th&gt;       &lt;td&gt;gmu9&lt;/td&gt;     &lt;/tr&gt;   &lt;/tbody&gt; &lt;/table&gt;&lt;/div&gt;`)[0];\n",
       "                popup_eda9c2bc152db6eff180b6966d0b516c.setContent(html_f9e897627af0a21435972a33a273f2c3);\n",
       "            \n",
       "        \n",
       "\n",
       "        circle_marker_c3b3057049cd2ceaedd3ba3106321d15.bindPopup(popup_eda9c2bc152db6eff180b6966d0b516c)\n",
       "        ;\n",
       "\n",
       "        \n",
       "    \n",
       "    \n",
       "            var circle_marker_ee6491e1fffe8b54d3fb68f2d25866c5 = L.circleMarker(\n",
       "                [37.331247, -76.430266],\n",
       "                {&quot;bubblingMouseEvents&quot;: true, &quot;color&quot;: &quot;#D81B1B&quot;, &quot;dashArray&quot;: null, &quot;dashOffset&quot;: null, &quot;fill&quot;: true, &quot;fillColor&quot;: &quot;#D81B1B&quot;, &quot;fillOpacity&quot;: 0.7, &quot;fillRule&quot;: &quot;evenodd&quot;, &quot;lineCap&quot;: &quot;round&quot;, &quot;lineJoin&quot;: &quot;round&quot;, &quot;opacity&quot;: 1.0, &quot;radius&quot;: 3, &quot;stroke&quot;: true, &quot;weight&quot;: 2}\n",
       "            ).addTo(feature_group_0b83c62b1c0dab19366e8f2df48fbb74);\n",
       "        \n",
       "    \n",
       "        var popup_8caf7324f2d184b1624fa78eb648e654 = L.popup({&quot;maxWidth&quot;: &quot;100%&quot;});\n",
       "\n",
       "        \n",
       "            \n",
       "                var html_f73120cd9b9470cbe7385454f1122879 = $(`&lt;div id=&quot;html_f73120cd9b9470cbe7385454f1122879&quot; style=&quot;width: 100.0%; height: 100.0%;&quot;&gt;&lt;table border=&quot;1&quot; class=&quot;dataframe table table-striped table-hover table-condensed table-responsive&quot;&gt;   &lt;thead&gt;     &lt;tr style=&quot;text-align: right;&quot;&gt;       &lt;th&gt;&lt;/th&gt;       &lt;th&gt;Oyster Only&lt;/th&gt;     &lt;/tr&gt;   &lt;/thead&gt;   &lt;tbody&gt;     &lt;tr&gt;       &lt;th&gt;0&lt;/th&gt;       &lt;td&gt;gmu11&lt;/td&gt;     &lt;/tr&gt;   &lt;/tbody&gt; &lt;/table&gt;&lt;/div&gt;`)[0];\n",
       "                popup_8caf7324f2d184b1624fa78eb648e654.setContent(html_f73120cd9b9470cbe7385454f1122879);\n",
       "            \n",
       "        \n",
       "\n",
       "        circle_marker_ee6491e1fffe8b54d3fb68f2d25866c5.bindPopup(popup_8caf7324f2d184b1624fa78eb648e654)\n",
       "        ;\n",
       "\n",
       "        \n",
       "    \n",
       "    \n",
       "            var circle_marker_d4e0f22840da60976b5fb03f9316f7d8 = L.circleMarker(\n",
       "                [37.331229, -76.430267],\n",
       "                {&quot;bubblingMouseEvents&quot;: true, &quot;color&quot;: &quot;#D81B1B&quot;, &quot;dashArray&quot;: null, &quot;dashOffset&quot;: null, &quot;fill&quot;: true, &quot;fillColor&quot;: &quot;#D81B1B&quot;, &quot;fillOpacity&quot;: 0.7, &quot;fillRule&quot;: &quot;evenodd&quot;, &quot;lineCap&quot;: &quot;round&quot;, &quot;lineJoin&quot;: &quot;round&quot;, &quot;opacity&quot;: 1.0, &quot;radius&quot;: 3, &quot;stroke&quot;: true, &quot;weight&quot;: 2}\n",
       "            ).addTo(feature_group_0b83c62b1c0dab19366e8f2df48fbb74);\n",
       "        \n",
       "    \n",
       "        var popup_0bed5db0a826b583dfae81279634477d = L.popup({&quot;maxWidth&quot;: &quot;100%&quot;});\n",
       "\n",
       "        \n",
       "            \n",
       "                var html_a79a4ae163318230ce03e25907aeba28 = $(`&lt;div id=&quot;html_a79a4ae163318230ce03e25907aeba28&quot; style=&quot;width: 100.0%; height: 100.0%;&quot;&gt;&lt;table border=&quot;1&quot; class=&quot;dataframe table table-striped table-hover table-condensed table-responsive&quot;&gt;   &lt;thead&gt;     &lt;tr style=&quot;text-align: right;&quot;&gt;       &lt;th&gt;&lt;/th&gt;       &lt;th&gt;Oyster Only&lt;/th&gt;     &lt;/tr&gt;   &lt;/thead&gt;   &lt;tbody&gt;     &lt;tr&gt;       &lt;th&gt;0&lt;/th&gt;       &lt;td&gt;gmu12&lt;/td&gt;     &lt;/tr&gt;   &lt;/tbody&gt; &lt;/table&gt;&lt;/div&gt;`)[0];\n",
       "                popup_0bed5db0a826b583dfae81279634477d.setContent(html_a79a4ae163318230ce03e25907aeba28);\n",
       "            \n",
       "        \n",
       "\n",
       "        circle_marker_d4e0f22840da60976b5fb03f9316f7d8.bindPopup(popup_0bed5db0a826b583dfae81279634477d)\n",
       "        ;\n",
       "\n",
       "        \n",
       "    \n",
       "    \n",
       "            var circle_marker_1d2e9786d911b1f35ed01ca2e79fbd5c = L.circleMarker(\n",
       "                [37.331231, -76.43031],\n",
       "                {&quot;bubblingMouseEvents&quot;: true, &quot;color&quot;: &quot;#D81B1B&quot;, &quot;dashArray&quot;: null, &quot;dashOffset&quot;: null, &quot;fill&quot;: true, &quot;fillColor&quot;: &quot;#D81B1B&quot;, &quot;fillOpacity&quot;: 0.7, &quot;fillRule&quot;: &quot;evenodd&quot;, &quot;lineCap&quot;: &quot;round&quot;, &quot;lineJoin&quot;: &quot;round&quot;, &quot;opacity&quot;: 1.0, &quot;radius&quot;: 3, &quot;stroke&quot;: true, &quot;weight&quot;: 2}\n",
       "            ).addTo(feature_group_0b83c62b1c0dab19366e8f2df48fbb74);\n",
       "        \n",
       "    \n",
       "        var popup_a17c059926e3577c8299bf800d79aa62 = L.popup({&quot;maxWidth&quot;: &quot;100%&quot;});\n",
       "\n",
       "        \n",
       "            \n",
       "                var html_7e9c4fb80fd0673bebfd8e09222d3d33 = $(`&lt;div id=&quot;html_7e9c4fb80fd0673bebfd8e09222d3d33&quot; style=&quot;width: 100.0%; height: 100.0%;&quot;&gt;&lt;table border=&quot;1&quot; class=&quot;dataframe table table-striped table-hover table-condensed table-responsive&quot;&gt;   &lt;thead&gt;     &lt;tr style=&quot;text-align: right;&quot;&gt;       &lt;th&gt;&lt;/th&gt;       &lt;th&gt;Oyster Only&lt;/th&gt;     &lt;/tr&gt;   &lt;/thead&gt;   &lt;tbody&gt;     &lt;tr&gt;       &lt;th&gt;0&lt;/th&gt;       &lt;td&gt;gmu10&lt;/td&gt;     &lt;/tr&gt;   &lt;/tbody&gt; &lt;/table&gt;&lt;/div&gt;`)[0];\n",
       "                popup_a17c059926e3577c8299bf800d79aa62.setContent(html_7e9c4fb80fd0673bebfd8e09222d3d33);\n",
       "            \n",
       "        \n",
       "\n",
       "        circle_marker_1d2e9786d911b1f35ed01ca2e79fbd5c.bindPopup(popup_a17c059926e3577c8299bf800d79aa62)\n",
       "        ;\n",
       "\n",
       "        \n",
       "    \n",
       "    \n",
       "            var circle_marker_a14b6a41fa34c2547a2636ce2c53f2a4 = L.circleMarker(\n",
       "                [37.331168, -76.430354],\n",
       "                {&quot;bubblingMouseEvents&quot;: true, &quot;color&quot;: &quot;#319FFF&quot;, &quot;dashArray&quot;: null, &quot;dashOffset&quot;: null, &quot;fill&quot;: true, &quot;fillColor&quot;: &quot;#319FFF&quot;, &quot;fillOpacity&quot;: 0.7, &quot;fillRule&quot;: &quot;evenodd&quot;, &quot;lineCap&quot;: &quot;round&quot;, &quot;lineJoin&quot;: &quot;round&quot;, &quot;opacity&quot;: 1.0, &quot;radius&quot;: 3, &quot;stroke&quot;: true, &quot;weight&quot;: 2}\n",
       "            ).addTo(feature_group_0b83c62b1c0dab19366e8f2df48fbb74);\n",
       "        \n",
       "    \n",
       "        var popup_7d7abdbd4704a0fa3cd374b8e86fc20d = L.popup({&quot;maxWidth&quot;: &quot;100%&quot;});\n",
       "\n",
       "        \n",
       "            \n",
       "                var html_595fedb7690c6e2ae147f2c3ea640aed = $(`&lt;div id=&quot;html_595fedb7690c6e2ae147f2c3ea640aed&quot; style=&quot;width: 100.0%; height: 100.0%;&quot;&gt;&lt;table border=&quot;1&quot; class=&quot;dataframe table table-striped table-hover table-condensed table-responsive&quot;&gt;   &lt;thead&gt;     &lt;tr style=&quot;text-align: right;&quot;&gt;       &lt;th&gt;&lt;/th&gt;       &lt;th&gt;Oyster + Geotube&lt;/th&gt;     &lt;/tr&gt;   &lt;/thead&gt;   &lt;tbody&gt;     &lt;tr&gt;       &lt;th&gt;0&lt;/th&gt;       &lt;td&gt;gmu6&lt;/td&gt;     &lt;/tr&gt;   &lt;/tbody&gt; &lt;/table&gt;&lt;/div&gt;`)[0];\n",
       "                popup_7d7abdbd4704a0fa3cd374b8e86fc20d.setContent(html_595fedb7690c6e2ae147f2c3ea640aed);\n",
       "            \n",
       "        \n",
       "\n",
       "        circle_marker_a14b6a41fa34c2547a2636ce2c53f2a4.bindPopup(popup_7d7abdbd4704a0fa3cd374b8e86fc20d)\n",
       "        ;\n",
       "\n",
       "        \n",
       "    \n",
       "    \n",
       "            var circle_marker_494824e3b7e97f4b0a8f55e6a38a1f9a = L.circleMarker(\n",
       "                [37.331187, -76.430391],\n",
       "                {&quot;bubblingMouseEvents&quot;: true, &quot;color&quot;: &quot;#319FFF&quot;, &quot;dashArray&quot;: null, &quot;dashOffset&quot;: null, &quot;fill&quot;: true, &quot;fillColor&quot;: &quot;#319FFF&quot;, &quot;fillOpacity&quot;: 0.7, &quot;fillRule&quot;: &quot;evenodd&quot;, &quot;lineCap&quot;: &quot;round&quot;, &quot;lineJoin&quot;: &quot;round&quot;, &quot;opacity&quot;: 1.0, &quot;radius&quot;: 3, &quot;stroke&quot;: true, &quot;weight&quot;: 2}\n",
       "            ).addTo(feature_group_0b83c62b1c0dab19366e8f2df48fbb74);\n",
       "        \n",
       "    \n",
       "        var popup_134ddf44987704f272027924276300d9 = L.popup({&quot;maxWidth&quot;: &quot;100%&quot;});\n",
       "\n",
       "        \n",
       "            \n",
       "                var html_0cab964ad24a9a0cacd54ee9c8e471b7 = $(`&lt;div id=&quot;html_0cab964ad24a9a0cacd54ee9c8e471b7&quot; style=&quot;width: 100.0%; height: 100.0%;&quot;&gt;&lt;table border=&quot;1&quot; class=&quot;dataframe table table-striped table-hover table-condensed table-responsive&quot;&gt;   &lt;thead&gt;     &lt;tr style=&quot;text-align: right;&quot;&gt;       &lt;th&gt;&lt;/th&gt;       &lt;th&gt;Oyster + Geotube&lt;/th&gt;     &lt;/tr&gt;   &lt;/thead&gt;   &lt;tbody&gt;     &lt;tr&gt;       &lt;th&gt;0&lt;/th&gt;       &lt;td&gt;gmu5&lt;/td&gt;     &lt;/tr&gt;   &lt;/tbody&gt; &lt;/table&gt;&lt;/div&gt;`)[0];\n",
       "                popup_134ddf44987704f272027924276300d9.setContent(html_0cab964ad24a9a0cacd54ee9c8e471b7);\n",
       "            \n",
       "        \n",
       "\n",
       "        circle_marker_494824e3b7e97f4b0a8f55e6a38a1f9a.bindPopup(popup_134ddf44987704f272027924276300d9)\n",
       "        ;\n",
       "\n",
       "        \n",
       "    \n",
       "    \n",
       "            var circle_marker_d91f15700e960ba202110d166154fef1 = L.circleMarker(\n",
       "                [37.331067, -76.430373],\n",
       "                {&quot;bubblingMouseEvents&quot;: true, &quot;color&quot;: &quot;#319FFF&quot;, &quot;dashArray&quot;: null, &quot;dashOffset&quot;: null, &quot;fill&quot;: true, &quot;fillColor&quot;: &quot;#319FFF&quot;, &quot;fillOpacity&quot;: 0.7, &quot;fillRule&quot;: &quot;evenodd&quot;, &quot;lineCap&quot;: &quot;round&quot;, &quot;lineJoin&quot;: &quot;round&quot;, &quot;opacity&quot;: 1.0, &quot;radius&quot;: 3, &quot;stroke&quot;: true, &quot;weight&quot;: 2}\n",
       "            ).addTo(feature_group_0b83c62b1c0dab19366e8f2df48fbb74);\n",
       "        \n",
       "    \n",
       "        var popup_6582e4c25a74ae965ebf5b475648fd3d = L.popup({&quot;maxWidth&quot;: &quot;100%&quot;});\n",
       "\n",
       "        \n",
       "            \n",
       "                var html_a401f4e96b27bb0bb3c447bb50119529 = $(`&lt;div id=&quot;html_a401f4e96b27bb0bb3c447bb50119529&quot; style=&quot;width: 100.0%; height: 100.0%;&quot;&gt;&lt;table border=&quot;1&quot; class=&quot;dataframe table table-striped table-hover table-condensed table-responsive&quot;&gt;   &lt;thead&gt;     &lt;tr style=&quot;text-align: right;&quot;&gt;       &lt;th&gt;&lt;/th&gt;       &lt;th&gt;Oyster + Geotube&lt;/th&gt;     &lt;/tr&gt;   &lt;/thead&gt;   &lt;tbody&gt;     &lt;tr&gt;       &lt;th&gt;0&lt;/th&gt;       &lt;td&gt;gmu3&lt;/td&gt;     &lt;/tr&gt;   &lt;/tbody&gt; &lt;/table&gt;&lt;/div&gt;`)[0];\n",
       "                popup_6582e4c25a74ae965ebf5b475648fd3d.setContent(html_a401f4e96b27bb0bb3c447bb50119529);\n",
       "            \n",
       "        \n",
       "\n",
       "        circle_marker_d91f15700e960ba202110d166154fef1.bindPopup(popup_6582e4c25a74ae965ebf5b475648fd3d)\n",
       "        ;\n",
       "\n",
       "        \n",
       "    \n",
       "    \n",
       "            var circle_marker_311697e3eab55ca045292d8986fa3475 = L.circleMarker(\n",
       "                [37.331052, -76.430358],\n",
       "                {&quot;bubblingMouseEvents&quot;: true, &quot;color&quot;: &quot;#319FFF&quot;, &quot;dashArray&quot;: null, &quot;dashOffset&quot;: null, &quot;fill&quot;: true, &quot;fillColor&quot;: &quot;#319FFF&quot;, &quot;fillOpacity&quot;: 0.7, &quot;fillRule&quot;: &quot;evenodd&quot;, &quot;lineCap&quot;: &quot;round&quot;, &quot;lineJoin&quot;: &quot;round&quot;, &quot;opacity&quot;: 1.0, &quot;radius&quot;: 3, &quot;stroke&quot;: true, &quot;weight&quot;: 2}\n",
       "            ).addTo(feature_group_0b83c62b1c0dab19366e8f2df48fbb74);\n",
       "        \n",
       "    \n",
       "        var popup_058dd6d0555f4bd1e13c8696bb16da38 = L.popup({&quot;maxWidth&quot;: &quot;100%&quot;});\n",
       "\n",
       "        \n",
       "            \n",
       "                var html_a019234b2d56de22873707ff7064ebf7 = $(`&lt;div id=&quot;html_a019234b2d56de22873707ff7064ebf7&quot; style=&quot;width: 100.0%; height: 100.0%;&quot;&gt;&lt;table border=&quot;1&quot; class=&quot;dataframe table table-striped table-hover table-condensed table-responsive&quot;&gt;   &lt;thead&gt;     &lt;tr style=&quot;text-align: right;&quot;&gt;       &lt;th&gt;&lt;/th&gt;       &lt;th&gt;Oyster + Geotube&lt;/th&gt;     &lt;/tr&gt;   &lt;/thead&gt;   &lt;tbody&gt;     &lt;tr&gt;       &lt;th&gt;0&lt;/th&gt;       &lt;td&gt;gmu4&lt;/td&gt;     &lt;/tr&gt;   &lt;/tbody&gt; &lt;/table&gt;&lt;/div&gt;`)[0];\n",
       "                popup_058dd6d0555f4bd1e13c8696bb16da38.setContent(html_a019234b2d56de22873707ff7064ebf7);\n",
       "            \n",
       "        \n",
       "\n",
       "        circle_marker_311697e3eab55ca045292d8986fa3475.bindPopup(popup_058dd6d0555f4bd1e13c8696bb16da38)\n",
       "        ;\n",
       "\n",
       "        \n",
       "    \n",
       "    \n",
       "            var circle_marker_294e8aedafde82c036c0625e8e510b7d = L.circleMarker(\n",
       "                [37.331093, -76.430217],\n",
       "                {&quot;bubblingMouseEvents&quot;: true, &quot;color&quot;: &quot;#FFBF00&quot;, &quot;dashArray&quot;: null, &quot;dashOffset&quot;: null, &quot;fill&quot;: true, &quot;fillColor&quot;: &quot;#FFBF00&quot;, &quot;fillOpacity&quot;: 0.7, &quot;fillRule&quot;: &quot;evenodd&quot;, &quot;lineCap&quot;: &quot;round&quot;, &quot;lineJoin&quot;: &quot;round&quot;, &quot;opacity&quot;: 1.0, &quot;radius&quot;: 3, &quot;stroke&quot;: true, &quot;weight&quot;: 2}\n",
       "            ).addTo(feature_group_0b83c62b1c0dab19366e8f2df48fbb74);\n",
       "        \n",
       "    \n",
       "        var popup_06da4f617b2d7a883159290861d07e6e = L.popup({&quot;maxWidth&quot;: &quot;100%&quot;});\n",
       "\n",
       "        \n",
       "            \n",
       "                var html_ae524426099195c4968c670b89a19e79 = $(`&lt;div id=&quot;html_ae524426099195c4968c670b89a19e79&quot; style=&quot;width: 100.0%; height: 100.0%;&quot;&gt;&lt;table border=&quot;1&quot; class=&quot;dataframe table table-striped table-hover table-condensed table-responsive&quot;&gt;   &lt;thead&gt;     &lt;tr style=&quot;text-align: right;&quot;&gt;       &lt;th&gt;&lt;/th&gt;       &lt;th&gt;Geotube Only&lt;/th&gt;     &lt;/tr&gt;   &lt;/thead&gt;   &lt;tbody&gt;     &lt;tr&gt;       &lt;th&gt;0&lt;/th&gt;       &lt;td&gt;gmu8&lt;/td&gt;     &lt;/tr&gt;   &lt;/tbody&gt; &lt;/table&gt;&lt;/div&gt;`)[0];\n",
       "                popup_06da4f617b2d7a883159290861d07e6e.setContent(html_ae524426099195c4968c670b89a19e79);\n",
       "            \n",
       "        \n",
       "\n",
       "        circle_marker_294e8aedafde82c036c0625e8e510b7d.bindPopup(popup_06da4f617b2d7a883159290861d07e6e)\n",
       "        ;\n",
       "\n",
       "        \n",
       "    \n",
       "    \n",
       "            var circle_marker_2034a47c4de6d04f8ee460dcd66e139f = L.circleMarker(\n",
       "                [37.331116, -76.430199],\n",
       "                {&quot;bubblingMouseEvents&quot;: true, &quot;color&quot;: &quot;#FFBF00&quot;, &quot;dashArray&quot;: null, &quot;dashOffset&quot;: null, &quot;fill&quot;: true, &quot;fillColor&quot;: &quot;#FFBF00&quot;, &quot;fillOpacity&quot;: 0.7, &quot;fillRule&quot;: &quot;evenodd&quot;, &quot;lineCap&quot;: &quot;round&quot;, &quot;lineJoin&quot;: &quot;round&quot;, &quot;opacity&quot;: 1.0, &quot;radius&quot;: 3, &quot;stroke&quot;: true, &quot;weight&quot;: 2}\n",
       "            ).addTo(feature_group_0b83c62b1c0dab19366e8f2df48fbb74);\n",
       "        \n",
       "    \n",
       "        var popup_1574f482f7a6a1742f49dbb69a6d2eac = L.popup({&quot;maxWidth&quot;: &quot;100%&quot;});\n",
       "\n",
       "        \n",
       "            \n",
       "                var html_0438b71d9b2c05009995cb5d2834466d = $(`&lt;div id=&quot;html_0438b71d9b2c05009995cb5d2834466d&quot; style=&quot;width: 100.0%; height: 100.0%;&quot;&gt;&lt;table border=&quot;1&quot; class=&quot;dataframe table table-striped table-hover table-condensed table-responsive&quot;&gt;   &lt;thead&gt;     &lt;tr style=&quot;text-align: right;&quot;&gt;       &lt;th&gt;&lt;/th&gt;       &lt;th&gt;Geotube Only&lt;/th&gt;     &lt;/tr&gt;   &lt;/thead&gt;   &lt;tbody&gt;     &lt;tr&gt;       &lt;th&gt;0&lt;/th&gt;       &lt;td&gt;gmu7&lt;/td&gt;     &lt;/tr&gt;   &lt;/tbody&gt; &lt;/table&gt;&lt;/div&gt;`)[0];\n",
       "                popup_1574f482f7a6a1742f49dbb69a6d2eac.setContent(html_0438b71d9b2c05009995cb5d2834466d);\n",
       "            \n",
       "        \n",
       "\n",
       "        circle_marker_2034a47c4de6d04f8ee460dcd66e139f.bindPopup(popup_1574f482f7a6a1742f49dbb69a6d2eac)\n",
       "        ;\n",
       "\n",
       "        \n",
       "    \n",
       "    \n",
       "            feature_group_0b83c62b1c0dab19366e8f2df48fbb74.addTo(map_55a13768e4ae7a769487a75c90d786c6);\n",
       "        \n",
       "    \n",
       "            var layer_control_cbf35013d1234340b3a0519fa7bb1168_layers = {\n",
       "                base_layers : {\n",
       "                    &quot;openstreetmap&quot; : tile_layer_6b5dfd74e4abf08059e28383487ed123,\n",
       "                    &quot;Esri Satellite&quot; : tile_layer_27a7f036d3f87de8110fcb748de8e102,\n",
       "                },\n",
       "                overlays :  {\n",
       "                    &quot;Canal Site&quot; : feature_group_0b83c62b1c0dab19366e8f2df48fbb74,\n",
       "                },\n",
       "            };\n",
       "            let layer_control_cbf35013d1234340b3a0519fa7bb1168 = L.control.layers(\n",
       "                layer_control_cbf35013d1234340b3a0519fa7bb1168_layers.base_layers,\n",
       "                layer_control_cbf35013d1234340b3a0519fa7bb1168_layers.overlays,\n",
       "                {&quot;autoZIndex&quot;: true, &quot;collapsed&quot;: true, &quot;position&quot;: &quot;topright&quot;}\n",
       "            ).addTo(map_55a13768e4ae7a769487a75c90d786c6);\n",
       "\n",
       "        \n",
       "&lt;/script&gt;\n",
       "&lt;/html&gt;\" width=\"800\" height=\"400\"style=\"border:none !important;\" \"allowfullscreen\" \"webkitallowfullscreen\" \"mozallowfullscreen\"></iframe>"
      ],
      "text/plain": [
       "<folium.folium.Map at 0x206ee672e40>"
      ]
     },
     "execution_count": 2,
     "metadata": {},
     "output_type": "execute_result"
    }
   ],
   "source": [
    "sensors_map"
   ]
  },
  {
   "cell_type": "markdown",
   "metadata": {},
   "source": [
    "<em> Location of RBR solo D Wave Loggers</em>"
   ]
  },
  {
   "cell_type": "markdown",
   "metadata": {},
   "source": [
    "### Results\n",
    "Our results show that the installation of NNBFs in the canal had a substantial impact on wave height. The figure below shows times series of significant wave height (Hs) for each sensor. The sensors' data is then grouped by their affiliated NNBFs. Observe the decrease in wave magnitude before (solid lines) and after (dashed lines) the installation of the NNBFs. Notably, the sensors located along the banks show the most significant changes, as they are positioned behind the NNBFs. In contrast, the sensors located in the water, which are in front of the NNBFs, do not show the same level of difference."
   ]
  },
  {
   "cell_type": "code",
   "execution_count": null,
   "metadata": {},
   "outputs": [
    {
     "data": {
      "application/vnd.plotly.v1+json": {
       "config": {
        "plotlyServerURL": "https://plot.ly"
       },
       "data": [
        {
         "legendgroup": "bf",
         "legendgrouptitle": {
          "text": "Before"
         },
         "line": {
          "color": "#FF5128",
          "dash": "dot"
         },
         "name": "GMU05",
         "showlegend": true,
         "type": "scatter",
         "x": [
          "00:00:00",
          "00:01:00",
          "00:02:00",
          "00:03:00",
          "00:04:00",
          "00:05:00",
          "00:06:00",
          "00:07:00",
          "00:08:00",
          "00:09:00",
          "00:10:00",
          "00:11:00",
          "00:12:00",
          "00:13:00",
          "00:14:00",
          "00:15:00",
          "00:16:00",
          "00:17:00",
          "00:18:00",
          "00:19:00",
          "00:20:00",
          "00:21:00",
          "00:22:00",
          "00:23:00",
          "00:24:00",
          "00:25:00",
          "00:26:00",
          "00:27:00",
          "00:28:00",
          "00:29:00",
          "00:30:00",
          "00:31:00",
          "00:32:00",
          "00:33:00",
          "00:34:00",
          "00:35:00",
          "00:36:00",
          "00:37:00",
          "00:38:00",
          "00:39:00",
          "00:40:00",
          "00:41:00",
          "00:42:00",
          "00:43:00",
          "00:44:00",
          "00:45:00",
          "00:46:00",
          "00:47:00",
          "00:48:00",
          "00:49:00",
          "00:50:00",
          "00:51:00",
          "00:52:00",
          "00:53:00",
          "00:54:00",
          "00:55:00",
          "00:56:00",
          "00:57:00",
          "00:58:00",
          "00:59:00",
          "01:00:00",
          "01:01:00",
          "01:02:00",
          "01:03:00",
          "01:04:00",
          "01:05:00",
          "01:06:00",
          "01:07:00",
          "01:08:00",
          "01:09:00",
          "01:10:00",
          "01:11:00",
          "01:12:00",
          "01:13:00",
          "01:14:00",
          "01:15:00",
          "01:16:00",
          "01:17:00",
          "01:18:00",
          "01:19:00"
         ],
         "xaxis": "x3",
         "y": [
          0.006177213082684612,
          0.007028510872043205,
          0.008654725886035448,
          0.20177107781112483,
          0.1323216004319451,
          0.12603303059446483,
          0.1270632775937646,
          0.16295252602471405,
          0.07622524979366362,
          0.057122683645272135,
          0.23281476109017762,
          0.12590325078718018,
          0.044053146455205146,
          0.03097189679720628,
          0.22162340061822972,
          0.11285859338093451,
          0.05494814355254848,
          0.039148911641918076,
          0.03587056854873413,
          0.10503417031538373,
          0.17287856131890697,
          0.06460003102512163,
          0.04332759788232918,
          0.16865981023667562,
          0.11758126103431693,
          0.03942704257351192,
          0.041579571049527045,
          0.11650044097584619,
          0.18962727536437532,
          0.06764322474894724,
          0.050155898665296766,
          0.07419548281809284,
          0.1702055966333777,
          0.07983158079690063,
          0.04928660034903397,
          0.028592858776866684,
          0.21696302302216866,
          0.13549977403340763,
          0.0640278434007548,
          0.04260595324933148,
          0.03186808071843037,
          0.2823978879061366,
          0.12737142675766105,
          0.05745196028236185,
          0.048044932022776786,
          0.0368813913933605,
          0.031977269959766415,
          0.16676044738095025,
          0.10934864906359273,
          0.054711538152484585,
          0.029318029042007275,
          0.018574536575979395,
          0.09086151486605014,
          0.13613293478486552,
          0.051860715405735405,
          0.17069447314823016,
          0.10520046042311167,
          0.04300414999607292,
          0.18789344193652047,
          0.11312354730129669,
          0.04475630770950087,
          0.19559354988049696,
          0.07420583913850054,
          0.03403507227493139,
          0.2495048938769601,
          0.07376140066869014,
          0.0642250443723768,
          0.2716008449117672,
          0.08010003626903,
          0.2476419737151096,
          0.16227494709319673,
          0.05343323799009414,
          0.2740856842882753,
          0.1790382530349249,
          0.039024915450086205,
          0.25326172723952534,
          0.10670591171950888,
          0.05079876730368111,
          0.04785141654261913,
          0.022282450551210288
         ],
         "yaxis": "y3"
        },
        {
         "legendgroup": "bf",
         "legendgrouptitle": {
          "text": "Before"
         },
         "line": {
          "color": "#FF5128",
          "dash": "dot"
         },
         "name": "GMU03",
         "showlegend": true,
         "type": "scatter",
         "x": [
          "00:00:00",
          "00:01:00",
          "00:02:00",
          "00:03:00",
          "00:04:00",
          "00:05:00",
          "00:06:00",
          "00:07:00",
          "00:08:00",
          "00:09:00",
          "00:10:00",
          "00:11:00",
          "00:12:00",
          "00:13:00",
          "00:14:00",
          "00:15:00",
          "00:16:00",
          "00:17:00",
          "00:18:00",
          "00:19:00",
          "00:20:00",
          "00:21:00",
          "00:22:00",
          "00:23:00",
          "00:24:00",
          "00:25:00",
          "00:26:00",
          "00:27:00",
          "00:28:00",
          "00:29:00",
          "00:30:00",
          "00:31:00",
          "00:32:00",
          "00:33:00",
          "00:34:00",
          "00:35:00",
          "00:36:00",
          "00:37:00",
          "00:38:00",
          "00:39:00",
          "00:40:00",
          "00:41:00",
          "00:42:00",
          "00:43:00",
          "00:44:00",
          "00:45:00",
          "00:46:00",
          "00:47:00",
          "00:48:00",
          "00:49:00",
          "00:50:00",
          "00:51:00",
          "00:52:00",
          "00:53:00",
          "00:54:00",
          "00:55:00",
          "00:56:00",
          "00:57:00",
          "00:58:00",
          "00:59:00",
          "01:00:00",
          "01:01:00",
          "01:02:00",
          "01:03:00",
          "01:04:00",
          "01:05:00",
          "01:06:00",
          "01:07:00",
          "01:08:00",
          "01:09:00",
          "01:10:00",
          "01:11:00",
          "01:12:00",
          "01:13:00",
          "01:14:00",
          "01:15:00",
          "01:16:00",
          "01:17:00",
          "01:18:00",
          "01:19:00"
         ],
         "xaxis": "x3",
         "y": [
          0.004099917280431682,
          0.004315605318540643,
          0.0039411155009607315,
          0.2396639234250021,
          0.08034859301433137,
          0.06568277313611874,
          0.136770794042837,
          0.2087552294648566,
          0.05199827737640573,
          0.04680133245823206,
          0.18741539402703916,
          0.11627790721909809,
          0.039998473674467204,
          0.03627518743840279,
          0.20249325620978534,
          0.10314399467724863,
          0.0462681081154958,
          0.03358095645771232,
          0.032334979879824755,
          0.09890466789253126,
          0.19426414074280396,
          0.06087310474422865,
          0.036847180134174436,
          0.13107849198059532,
          0.1662947761580391,
          0.0422399372281102,
          0.023641566024564454,
          0.10187713667306478,
          0.2291918113443209,
          0.04963795917504482,
          0.03213097214410537,
          0.037590892734936314,
          0.20641491114010121,
          0.05422700979809,
          0.02264853775986977,
          0.023461300260204387,
          0.26492342996110096,
          0.13499120414555615,
          0.030521993841852446,
          0.024111857696319,
          0.030259118257088432,
          0.29039475735077525,
          0.09395928550615798,
          0.03527283688753914,
          0.024777146047708802,
          0.02509198042565238,
          0.0228918408784953,
          0.16483918893613775,
          0.11975257689928709,
          0.039340322139670585,
          0.019739131961805895,
          0.020151617462645495,
          0.07048732904734754,
          0.16313105425417485,
          0.04953642385592917,
          0.16158132166255526,
          0.13315207435418241,
          0.038392206611296775,
          0.1646266273585548,
          0.11469279478420262,
          0.04278004845880868,
          0.2064573186113204,
          0.07392744423305571,
          0.03465172385823639,
          0.25574386010144284,
          0.06666491974580334,
          0.03581287628005537,
          0.2118280061086569,
          0.05190705941819715,
          0.21150424757642777,
          0.16362863293041796,
          0.0375080620028002,
          0.24200023170272947,
          0.11035552005294905,
          0.04252191606815975,
          0.27138341828009305,
          0.09523624684193253,
          0.026819718554295043,
          0.037518813900984854,
          0.02807315796494617
         ],
         "yaxis": "y3"
        },
        {
         "legendgroup": "bf",
         "legendgrouptitle": {
          "text": "Before"
         },
         "line": {
          "color": "#FF5128",
          "dash": "dot"
         },
         "name": "GMU10",
         "showlegend": true,
         "type": "scatter",
         "x": [
          "00:00:00",
          "00:01:00",
          "00:02:00",
          "00:03:00",
          "00:04:00",
          "00:05:00",
          "00:06:00",
          "00:07:00",
          "00:08:00",
          "00:09:00",
          "00:10:00",
          "00:11:00",
          "00:12:00",
          "00:13:00",
          "00:14:00",
          "00:15:00",
          "00:16:00",
          "00:17:00",
          "00:18:00",
          "00:19:00",
          "00:20:00",
          "00:21:00",
          "00:22:00",
          "00:23:00",
          "00:24:00",
          "00:25:00",
          "00:26:00",
          "00:27:00",
          "00:28:00",
          "00:29:00",
          "00:30:00",
          "00:31:00",
          "00:32:00",
          "00:33:00",
          "00:34:00",
          "00:35:00",
          "00:36:00",
          "00:37:00",
          "00:38:00",
          "00:39:00",
          "00:40:00",
          "00:41:00",
          "00:42:00",
          "00:43:00",
          "00:44:00",
          "00:45:00",
          "00:46:00",
          "00:47:00",
          "00:48:00",
          "00:49:00",
          "00:50:00",
          "00:51:00",
          "00:52:00",
          "00:53:00",
          "00:54:00",
          "00:55:00",
          "00:56:00",
          "00:57:00",
          "00:58:00",
          "00:59:00",
          "01:00:00",
          "01:01:00",
          "01:02:00",
          "01:03:00",
          "01:04:00",
          "01:05:00",
          "01:06:00",
          "01:07:00",
          "01:08:00",
          "01:09:00",
          "01:10:00",
          "01:11:00",
          "01:12:00",
          "01:13:00",
          "01:14:00",
          "01:15:00",
          "01:16:00",
          "01:17:00",
          "01:18:00",
          "01:19:00"
         ],
         "xaxis": "x",
         "y": [
          0.005257750902389821,
          0.003779262577964435,
          0.00331141509292101,
          0.12708748256337887,
          0.08261802089664444,
          0.03463854994829847,
          0.06226331670191717,
          0.12725498723434953,
          0.053958645686376226,
          0.030221504193201392,
          0.09964969971003733,
          0.0925101570486891,
          0.034125799574683514,
          0.018289204018061805,
          0.11724670880455962,
          0.10800660803170296,
          0.03683752745723969,
          0.01752344870181564,
          0.022796428710315748,
          0.06232856476679646,
          0.14392412636952825,
          0.05140482939437374,
          0.02333274893212995,
          0.04008135629081477,
          0.16146534417232658,
          0.038943023932199526,
          0.02918234482104383,
          0.032426147123425106,
          0.14702653805071994,
          0.048351071125090316,
          0.037516986422600374,
          0.021894206591289676,
          0.22666024043774854,
          0.04943879561370148,
          0.0368543421408192,
          0.020569504175190167,
          0.13650062032856738,
          0.110791912606222,
          0.030877274619301225,
          0.03051268687046798,
          0.014606731643560083,
          0.14792335102442833,
          0.09554011863605036,
          0.03457620078956904,
          0.02663447595919599,
          0.014258331440261427,
          0.01618018191770486,
          0.08389964320579597,
          0.09548405406025869,
          0.030108409735523305,
          0.017287873414681684,
          0.01385691878981407,
          0.03006048691618533,
          0.11689541132105685,
          0.053562708739230136,
          0.07429699482369048,
          0.10480224938000728,
          0.03356335560819706,
          0.0912119128116832,
          0.09438274138498633,
          0.034798678908690796,
          0.11108181749148877,
          0.07705074988362524,
          0.03197953032361301,
          0.17065298643430088,
          0.05955201931607757,
          0.045452537532625875,
          0.22395651787736728,
          0.0562058355086543,
          0.12168737576633436,
          0.12169451968976815,
          0.04563568918745261,
          0.1650336112405207,
          0.0825307927039649,
          0.03941474581734148,
          0.157437358765884,
          0.0681729794329492,
          0.03708339060513116,
          0.023502435480077275,
          0.027335731403439808
         ],
         "yaxis": "y"
        },
        {
         "legendgroup": "bf",
         "legendgrouptitle": {
          "text": "Before"
         },
         "line": {
          "color": "#FF5128",
          "dash": "dot"
         },
         "name": "GMU07",
         "showlegend": true,
         "type": "scatter",
         "x": [
          "00:00:00",
          "00:01:00",
          "00:02:00",
          "00:03:00",
          "00:04:00",
          "00:05:00",
          "00:06:00",
          "00:07:00",
          "00:08:00",
          "00:09:00",
          "00:10:00",
          "00:11:00",
          "00:12:00",
          "00:13:00",
          "00:14:00",
          "00:15:00",
          "00:16:00",
          "00:17:00",
          "00:18:00",
          "00:19:00",
          "00:20:00",
          "00:21:00",
          "00:22:00",
          "00:23:00",
          "00:24:00",
          "00:25:00",
          "00:26:00",
          "00:27:00",
          "00:28:00",
          "00:29:00",
          "00:30:00",
          "00:31:00",
          "00:32:00",
          "00:33:00",
          "00:34:00",
          "00:35:00",
          "00:36:00",
          "00:37:00",
          "00:38:00",
          "00:39:00",
          "00:40:00",
          "00:41:00",
          "00:42:00",
          "00:43:00",
          "00:44:00",
          "00:45:00",
          "00:46:00",
          "00:47:00",
          "00:48:00",
          "00:49:00",
          "00:50:00",
          "00:51:00",
          "00:52:00",
          "00:53:00",
          "00:54:00",
          "00:55:00",
          "00:56:00",
          "00:57:00",
          "00:58:00",
          "00:59:00",
          "01:00:00",
          "01:01:00",
          "01:02:00",
          "01:03:00",
          "01:04:00",
          "01:05:00",
          "01:06:00",
          "01:07:00",
          "01:08:00",
          "01:09:00",
          "01:10:00",
          "01:11:00",
          "01:12:00",
          "01:13:00",
          "01:14:00",
          "01:15:00",
          "01:16:00",
          "01:17:00",
          "01:18:00",
          "01:19:00"
         ],
         "xaxis": "x2",
         "y": [
          0.0037241998709343573,
          0.003418487174768012,
          0.011732699861949136,
          0.17083004330216164,
          0.12059169064937796,
          0.08980113212256424,
          0.10060751457047122,
          0.13808691564438494,
          0.04423554761433746,
          0.02123346118126427,
          0.15805364887124596,
          0.0786835661975127,
          0.027928061303832696,
          0.015657983237641605,
          0.1654887060528771,
          0.06902176200084476,
          0.029286543653901036,
          0.01554686225568589,
          0.01605238772747261,
          0.0833892336206493,
          0.13420518654524044,
          0.03916843877976603,
          0.01487389353945638,
          0.13689431644405176,
          0.08817779665576901,
          0.031489302633068636,
          0.017584112685653998,
          0.10260346025146577,
          0.1289699594287238,
          0.04622430667502555,
          0.027579617706079442,
          0.06505521760101644,
          0.11034412636841578,
          0.030727881294033994,
          0.018876512301741467,
          0.012936688737291445,
          0.16055865518786605,
          0.10672691151851352,
          0.035177135756357204,
          0.02301554665605642,
          0.016414137926051817,
          0.1593863718209647,
          0.07853337728947146,
          0.029454706640226633,
          0.021547066812264096,
          0.013358262499566568,
          0.01051252070855984,
          0.11329716679957436,
          0.08098788433975422,
          0.025388064876342747,
          0.013665447821765967,
          0.01141759381531262,
          0.06948969049152014,
          0.10302309878805731,
          0.0388236723809313,
          0.1158693708156894,
          0.08187295806855073,
          0.022912504107754875,
          0.1294024459951725,
          0.08206555131572435,
          0.02430008282461308,
          0.14397295844064498,
          0.05678738259450502,
          0.020530921126322686,
          0.14491372487796828,
          0.05625929391965343,
          0.026629817702877104,
          0.15613412603374677,
          0.040193551865708076,
          0.160744213514801,
          0.07499493495614604,
          0.027931070830866087,
          0.1835820194118596,
          0.06449920821293832,
          0.026912095473349152,
          0.17419711938171822,
          0.05375725557911768,
          0.02020218083917849,
          0.018973775472079155,
          0.011969000291472942
         ],
         "yaxis": "y2"
        },
        {
         "legendgroup": "af",
         "legendgrouptitle": {
          "text": "After"
         },
         "line": {
          "color": "#39A2FF",
          "dash": "solid"
         },
         "name": "GMU05",
         "showlegend": true,
         "type": "scatter",
         "x": [
          "00:00:00",
          "00:01:00",
          "00:02:00",
          "00:03:00",
          "00:04:00",
          "00:05:00",
          "00:06:00",
          "00:07:00",
          "00:08:00",
          "00:09:00",
          "00:10:00",
          "00:11:00",
          "00:12:00",
          "00:13:00",
          "00:14:00",
          "00:15:00",
          "00:16:00",
          "00:17:00",
          "00:18:00",
          "00:19:00",
          "00:20:00",
          "00:21:00",
          "00:22:00",
          "00:23:00",
          "00:24:00",
          "00:25:00",
          "00:26:00",
          "00:27:00",
          "00:28:00",
          "00:29:00",
          "00:30:00",
          "00:31:00",
          "00:32:00",
          "00:33:00",
          "00:34:00",
          "00:35:00",
          "00:36:00",
          "00:37:00",
          "00:38:00",
          "00:39:00",
          "00:40:00",
          "00:41:00",
          "00:42:00",
          "00:43:00",
          "00:44:00",
          "00:45:00",
          "00:46:00",
          "00:47:00",
          "00:48:00",
          "00:49:00",
          "00:50:00",
          "00:51:00",
          "00:52:00",
          "00:53:00",
          "00:54:00",
          "00:55:00",
          "00:56:00",
          "00:57:00",
          "00:58:00",
          "00:59:00",
          "01:00:00",
          "01:01:00",
          "01:02:00",
          "01:03:00",
          "01:04:00",
          "01:05:00",
          "01:06:00",
          "01:07:00",
          "01:08:00",
          "01:09:00",
          "01:10:00",
          "01:11:00",
          "01:12:00",
          "01:13:00",
          "01:14:00",
          "01:15:00",
          "01:16:00",
          "01:17:00",
          "01:18:00",
          "01:19:00"
         ],
         "xaxis": "x3",
         "y": [
          0.007321769378888435,
          0.003754553150134901,
          0.10057425266569595,
          0.04382161606453921,
          0.018173889597630655,
          0.1070757692068131,
          0.053937821912476654,
          0.02364367145551746,
          0.014906027652420011,
          0.011988942897516106,
          0.0073551566949805565,
          0.007596791449899419,
          0.006137938365377683,
          0.005195488705930504,
          0.0040308420412399305,
          0.003096724497569553,
          0.007890834241926417,
          0.004646844800726861,
          0.003364554044387812,
          0.10170233989108153,
          0.057881709081316846,
          0.018183238225721092,
          0.10059393765805895,
          0.0669438529807525,
          0.02120833889804173,
          0.01536967722296735,
          0.011896362367808118,
          0.012127568743250005,
          0.006621867015539385,
          0.00515427810139716,
          0.13409234631321917,
          0.03072955352430364,
          0.027891970531552155,
          0.09437990256505721,
          0.03843867817452087,
          0.020167199124665188,
          0.01101450612534287,
          0.010138215109079201,
          0.010202633658196611,
          0.010695551763646918,
          0.007740651130087978,
          0.003993195159873883,
          0.004306310939365806,
          0.0052820481291473344,
          0.012814022889708059,
          0.005229467434427046,
          0.004689742979303408,
          0.09186306680518122,
          0.07285495432070647,
          0.0248201928656632,
          0.09209409506303526,
          0.07445354264540363,
          0.025242853988229477,
          0.019711135238138968,
          0.01074921931692173,
          0.011767575607783885,
          0.0067718894713090306,
          0.06017787174705922,
          0.10751524375953604,
          0.020261983900092637,
          0.01933870203596364,
          0.10956371442191563,
          0.05992336108959145,
          0.023253281706117547,
          0.014551174828134478,
          0.01488297167595283,
          0.010433413804222413,
          0.007413768012470092,
          0.1279416316791639,
          0.060223080172922334,
          0.023271925465787185,
          0.12087963288808981,
          0.06133150748488676,
          0.022448649704707252,
          0.016428383013504032,
          0.012783848449631563,
          0.011458592830138984,
          0.007684857198210853,
          0.0064048528391604815,
          0.004799278061333456
         ],
         "yaxis": "y3"
        },
        {
         "legendgroup": "af",
         "legendgrouptitle": {
          "text": "After"
         },
         "line": {
          "color": "#39A2FF",
          "dash": "solid"
         },
         "name": "GMU03",
         "showlegend": true,
         "type": "scatter",
         "x": [
          "00:00:00",
          "00:01:00",
          "00:02:00",
          "00:03:00",
          "00:04:00",
          "00:05:00",
          "00:06:00",
          "00:07:00",
          "00:08:00",
          "00:09:00",
          "00:10:00",
          "00:11:00",
          "00:12:00",
          "00:13:00",
          "00:14:00",
          "00:15:00",
          "00:16:00",
          "00:17:00",
          "00:18:00",
          "00:19:00",
          "00:20:00",
          "00:21:00",
          "00:22:00",
          "00:23:00",
          "00:24:00",
          "00:25:00",
          "00:26:00",
          "00:27:00",
          "00:28:00",
          "00:29:00",
          "00:30:00",
          "00:31:00",
          "00:32:00",
          "00:33:00",
          "00:34:00",
          "00:35:00",
          "00:36:00",
          "00:37:00",
          "00:38:00",
          "00:39:00",
          "00:40:00",
          "00:41:00",
          "00:42:00",
          "00:43:00",
          "00:44:00",
          "00:45:00",
          "00:46:00",
          "00:47:00",
          "00:48:00",
          "00:49:00",
          "00:50:00",
          "00:51:00",
          "00:52:00",
          "00:53:00",
          "00:54:00",
          "00:55:00",
          "00:56:00",
          "00:57:00",
          "00:58:00",
          "00:59:00",
          "01:00:00",
          "01:01:00",
          "01:02:00",
          "01:03:00",
          "01:04:00",
          "01:05:00",
          "01:06:00",
          "01:07:00",
          "01:08:00",
          "01:09:00",
          "01:10:00",
          "01:11:00",
          "01:12:00",
          "01:13:00",
          "01:14:00",
          "01:15:00",
          "01:16:00",
          "01:17:00",
          "01:18:00",
          "01:19:00"
         ],
         "xaxis": "x3",
         "y": [
          0.01030787626229848,
          0.004932199749994943,
          0.15384892249693907,
          0.05457112418312977,
          0.03165816990292982,
          0.10817050796140375,
          0.09541626579059115,
          0.042578531645273275,
          0.030761045809708017,
          0.021824100038989824,
          0.013690992017161988,
          0.012195283286686854,
          0.01209216068619212,
          0.009565971946748363,
          0.006184553620160804,
          0.005984232214846619,
          0.010686337420481784,
          0.010812682147219537,
          0.005435470866131831,
          0.13956168914244613,
          0.059157457716032404,
          0.02447586930584551,
          0.15652031299112523,
          0.10412857113093678,
          0.044638822071775074,
          0.03704006149491756,
          0.02289364524272379,
          0.015664957003673867,
          0.012602849790908833,
          0.021755865372940685,
          0.13641309148160358,
          0.04480106032662643,
          0.055882506766388666,
          0.15390031429391854,
          0.05813184539209235,
          0.03208802540683599,
          0.027028007093696616,
          0.01502229180246145,
          0.013180311182205239,
          0.010888120905189579,
          0.009386744431604655,
          0.006217101009248053,
          0.004090192750256709,
          0.008629735757320756,
          0.011156428524767802,
          0.0057961203469562815,
          0.004826553805123954,
          0.14028607131304918,
          0.11666000783588741,
          0.047040366481269656,
          0.15003319228280676,
          0.14342288582295618,
          0.056099902794236926,
          0.03369523901258998,
          0.01923505264900186,
          0.017623622381187205,
          0.011760699949923724,
          0.09316313514330242,
          0.10990492386162617,
          0.042431318362966146,
          0.03152569905873409,
          0.19107228405466142,
          0.08375997264392612,
          0.03717727530268998,
          0.029670991628204215,
          0.017646064002588134,
          0.015123644712455336,
          0.010544972986043472,
          0.1705163925828458,
          0.07499658802066242,
          0.0336545708065975,
          0.20610303145411318,
          0.0920977071186401,
          0.04376688916997484,
          0.026755168184340733,
          0.019543235901148263,
          0.014357796123822023,
          0.012850153152331173,
          0.008333800339198064,
          0.006240474198657272
         ],
         "yaxis": "y3"
        },
        {
         "legendgroup": "af",
         "legendgrouptitle": {
          "text": "After"
         },
         "line": {
          "color": "#39A2FF",
          "dash": "solid"
         },
         "name": "GMU09",
         "showlegend": true,
         "type": "scatter",
         "x": [
          "00:00:00",
          "00:01:00",
          "00:02:00",
          "00:03:00",
          "00:04:00",
          "00:05:00",
          "00:06:00",
          "00:07:00",
          "00:08:00",
          "00:09:00",
          "00:10:00",
          "00:11:00",
          "00:12:00",
          "00:13:00",
          "00:14:00",
          "00:15:00",
          "00:16:00",
          "00:17:00",
          "00:18:00",
          "00:19:00",
          "00:20:00",
          "00:21:00",
          "00:22:00",
          "00:23:00",
          "00:24:00",
          "00:25:00",
          "00:26:00",
          "00:27:00",
          "00:28:00",
          "00:29:00",
          "00:30:00",
          "00:31:00",
          "00:32:00",
          "00:33:00",
          "00:34:00",
          "00:35:00",
          "00:36:00",
          "00:37:00",
          "00:38:00",
          "00:39:00",
          "00:40:00",
          "00:41:00",
          "00:42:00",
          "00:43:00",
          "00:44:00",
          "00:45:00",
          "00:46:00",
          "00:47:00",
          "00:48:00",
          "00:49:00",
          "00:50:00",
          "00:51:00",
          "00:52:00",
          "00:53:00",
          "00:54:00",
          "00:55:00",
          "00:56:00",
          "00:57:00",
          "00:58:00",
          "00:59:00",
          "01:00:00",
          "01:01:00",
          "01:02:00",
          "01:03:00",
          "01:04:00",
          "01:05:00",
          "01:06:00",
          "01:07:00",
          "01:08:00",
          "01:09:00",
          "01:10:00",
          "01:11:00",
          "01:12:00",
          "01:13:00",
          "01:14:00",
          "01:15:00",
          "01:16:00",
          "01:17:00",
          "01:18:00",
          "01:19:00"
         ],
         "xaxis": "x",
         "y": [
          0.0053630975694027114,
          0.002461101959996067,
          0.17294760351589913,
          0.03475817219765381,
          0.02021893654364913,
          0.109953190151019,
          0.05574703673699104,
          0.01820432306277681,
          0.013392573361907877,
          0.010862290673242724,
          0.0074995865215894235,
          0.006446913087795558,
          0.005831519142269208,
          0.005227750835178233,
          0.0030487438270866483,
          0.00389758319744146,
          0.006687217710411042,
          0.0042777458912164066,
          0.0035995485246791384,
          0.1265343104246452,
          0.04740893480561069,
          0.013393323407934777,
          0.14363307336155043,
          0.060522185441297144,
          0.018718914693755338,
          0.013396088007679476,
          0.015536006192021945,
          0.01014022338766968,
          0.005022172344050489,
          0.0041197720163022025,
          0.1428108568663696,
          0.029628864260198763,
          0.032385681374684686,
          0.08581380486564245,
          0.028984840486145243,
          0.017466469411996054,
          0.01020986776196914,
          0.010448864740933525,
          0.009908930873234993,
          0.008208673912143381,
          0.005304669756317006,
          0.0033403906842582234,
          0.0029003123998534034,
          0.007333780101602633,
          0.007203345413891551,
          0.004177201159636368,
          0.003634613693891768,
          0.13641763282006075,
          0.10308937117006776,
          0.03334322473938928,
          0.0901903397620811,
          0.08220641457208952,
          0.0284285733369254,
          0.01570780610178175,
          0.010816171498776651,
          0.008586432055335219,
          0.007595588962883471,
          0.09767395227358801,
          0.11609222984671375,
          0.027533454611654067,
          0.011301771716072247,
          0.14007774040751558,
          0.04190555055861777,
          0.0229283865733436,
          0.012169577282110369,
          0.012648998818244191,
          0.008306762583556072,
          0.008096385866303022,
          0.16523658454213808,
          0.04169018298136195,
          0.017601063044413397,
          0.126045360713283,
          0.046135504556668205,
          0.021942957990091053,
          0.012728878917865038,
          0.012265251743493466,
          0.009252251568873732,
          0.009408683194525138,
          0.006318497316595069,
          0.004006337259070473
         ],
         "yaxis": "y"
        },
        {
         "legendgroup": "af",
         "legendgrouptitle": {
          "text": "After"
         },
         "line": {
          "color": "#39A2FF",
          "dash": "solid"
         },
         "name": "GMU11",
         "showlegend": true,
         "type": "scatter",
         "x": [
          "00:00:00",
          "00:01:00",
          "00:02:00",
          "00:03:00",
          "00:04:00",
          "00:05:00",
          "00:06:00",
          "00:07:00",
          "00:08:00",
          "00:09:00",
          "00:10:00",
          "00:11:00",
          "00:12:00",
          "00:13:00",
          "00:14:00",
          "00:15:00",
          "00:16:00",
          "00:17:00",
          "00:18:00",
          "00:19:00",
          "00:20:00",
          "00:21:00",
          "00:22:00",
          "00:23:00",
          "00:24:00",
          "00:25:00",
          "00:26:00",
          "00:27:00",
          "00:28:00",
          "00:29:00",
          "00:30:00",
          "00:31:00",
          "00:32:00",
          "00:33:00",
          "00:34:00",
          "00:35:00",
          "00:36:00",
          "00:37:00",
          "00:38:00",
          "00:39:00",
          "00:40:00",
          "00:41:00",
          "00:42:00",
          "00:43:00",
          "00:44:00",
          "00:45:00",
          "00:46:00",
          "00:47:00",
          "00:48:00",
          "00:49:00",
          "00:50:00",
          "00:51:00",
          "00:52:00",
          "00:53:00",
          "00:54:00",
          "00:55:00",
          "00:56:00",
          "00:57:00",
          "00:58:00",
          "00:59:00",
          "01:00:00",
          "01:01:00",
          "01:02:00",
          "01:03:00",
          "01:04:00",
          "01:05:00",
          "01:06:00",
          "01:07:00",
          "01:08:00",
          "01:09:00",
          "01:10:00",
          "01:11:00",
          "01:12:00",
          "01:13:00",
          "01:14:00",
          "01:15:00",
          "01:16:00",
          "01:17:00",
          "01:18:00",
          "01:19:00"
         ],
         "xaxis": "x",
         "y": [
          0.004311005619592359,
          0.002460239680604757,
          0.12210543403432962,
          0.02807572284803361,
          0.01438907739439544,
          0.08996639838206079,
          0.04111127694182841,
          0.021547002218388917,
          0.01315778138291985,
          0.009715290241497544,
          0.007005286475655588,
          0.006365745670406074,
          0.005779794809306142,
          0.0044506917133306425,
          0.003425307033088658,
          0.0027836642494316953,
          0.005123033548902568,
          0.0039015860433306427,
          0.002480146602778548,
          0.12043267710877306,
          0.036991153815584356,
          0.013394052617744855,
          0.09798664171832108,
          0.046496533481392224,
          0.016673567827537473,
          0.011339893528338984,
          0.011661998647980447,
          0.006573899709768663,
          0.004422228610844042,
          0.004017503926435217,
          0.12075153387620018,
          0.023440158218562553,
          0.03582586866485078,
          0.07125482325163267,
          0.02971884904435327,
          0.01374756291403852,
          0.008538578340664047,
          0.007953347087440473,
          0.008090613893468346,
          0.008340865096363037,
          0.00507848825769678,
          0.003387214616014137,
          0.003141845246108301,
          0.011306935411808994,
          0.00656138181180432,
          0.003395993287609197,
          0.0031597379747967096,
          0.09691794490858098,
          0.09882176359024471,
          0.023357020854071712,
          0.07299903709398893,
          0.05962076130343602,
          0.02379306454445744,
          0.012052125880295727,
          0.008686940629074838,
          0.007634189642651819,
          0.004400865424102196,
          0.06883077116652651,
          0.07001112082101897,
          0.021886144162912086,
          0.010749016946751807,
          0.11174061355693173,
          0.0404900687409043,
          0.016320020363491953,
          0.012343723107127847,
          0.010697532611190531,
          0.006000613091272016,
          0.005974225165214714,
          0.12577452857077204,
          0.03166085335449009,
          0.017375191544725867,
          0.10881062961208009,
          0.035964582802356336,
          0.015430682941234852,
          0.012299633868962856,
          0.01180486267037894,
          0.00590596509282616,
          0.00603423179386306,
          0.0047811866825229745,
          0.0029844007609958435
         ],
         "yaxis": "y"
        },
        {
         "legendgroup": "af",
         "legendgrouptitle": {
          "text": "After"
         },
         "line": {
          "color": "#39A2FF",
          "dash": "solid"
         },
         "name": "GMU07",
         "showlegend": true,
         "type": "scatter",
         "x": [
          "00:00:00",
          "00:01:00",
          "00:02:00",
          "00:03:00",
          "00:04:00",
          "00:05:00",
          "00:06:00",
          "00:07:00",
          "00:08:00",
          "00:09:00",
          "00:10:00",
          "00:11:00",
          "00:12:00",
          "00:13:00",
          "00:14:00",
          "00:15:00",
          "00:16:00",
          "00:17:00",
          "00:18:00",
          "00:19:00",
          "00:20:00",
          "00:21:00",
          "00:22:00",
          "00:23:00",
          "00:24:00",
          "00:25:00",
          "00:26:00",
          "00:27:00",
          "00:28:00",
          "00:29:00",
          "00:30:00",
          "00:31:00",
          "00:32:00",
          "00:33:00",
          "00:34:00",
          "00:35:00",
          "00:36:00",
          "00:37:00",
          "00:38:00",
          "00:39:00",
          "00:40:00",
          "00:41:00",
          "00:42:00",
          "00:43:00",
          "00:44:00",
          "00:45:00",
          "00:46:00",
          "00:47:00",
          "00:48:00",
          "00:49:00",
          "00:50:00",
          "00:51:00",
          "00:52:00",
          "00:53:00",
          "00:54:00",
          "00:55:00",
          "00:56:00",
          "00:57:00",
          "00:58:00",
          "00:59:00",
          "01:00:00",
          "01:01:00",
          "01:02:00",
          "01:03:00",
          "01:04:00",
          "01:05:00",
          "01:06:00",
          "01:07:00",
          "01:08:00",
          "01:09:00",
          "01:10:00",
          "01:11:00",
          "01:12:00",
          "01:13:00",
          "01:14:00",
          "01:15:00",
          "01:16:00",
          "01:17:00",
          "01:18:00",
          "01:19:00"
         ],
         "xaxis": "x2",
         "y": [
          0.0011990716002128435,
          0.0012235703288376056,
          0.0013186775235633818,
          0.001197456202052442,
          0.0009097338336274009,
          0.001083085840257626,
          0.008542221436719465,
          0.02445274497953498,
          0.03243062736565413,
          0.029664909638612187,
          0.006874822855045389,
          0.001003357348663296,
          0.0011338319179290174,
          0.001336052333804321,
          0.0012357729774637,
          0.0011041786205485678,
          0.001273126219968815,
          0.0008479550546128161,
          0.0009058693078717617,
          0.007614700065627279,
          0.0019282324098674657,
          0.001380945509203308,
          0.0010097144929966755,
          0.0014598414697755933,
          0.0012468451817667504,
          0.0008934444004779203,
          0.0011799086930395439,
          0.0010442969683156593,
          0.0008881495432756825,
          0.0012941762995694517,
          0.0011129088713067057,
          0.00119860002421924,
          0.0010109872612751806,
          0.0010243905078555211,
          0.0012240656488381638,
          0.0009863305364670213,
          0.0009664008439900882,
          0.001357052884956855,
          0.0018381488037213204,
          0.0019495338951617555,
          0.0017559867406162254,
          0.0018148857582126888,
          0.002013393109705899,
          0.0010556620714958192,
          0.0015138538201517572,
          0.0022727670859249184,
          0.002478890600253338,
          0.007621450801347656,
          0.002975477531014063,
          0.0017955221933898637,
          0.0020189536405025867,
          0.0012790861544349878,
          0.001377969900901725,
          0.0009907744558079687,
          0.0017253795563935185,
          0.0015936692788344512,
          0.0017720036767280435,
          0.003238641713411325,
          0.0023852897930622522,
          0.0011672475050169384,
          0.0010098354243882291,
          0.004683023944745934,
          0.001240229436165581,
          0.0009869055982102803,
          0.000896039979012955,
          0.000940334762065833,
          0.001110624108276963,
          0.0009487207119461019,
          0.007548751872597356,
          0.0010054567676088466,
          0.0009293757563026814,
          0.00319665937494962,
          0.0010690971826375372,
          0.0010300036692638074,
          0.0012394646651809089,
          0.0008882326312669229,
          0.001287653600465341,
          0.0008917463388204518,
          0.001071134674237454,
          0.0016255993075161778
         ],
         "yaxis": "y2"
        }
       ],
       "layout": {
        "annotations": [
         {
          "font": {
           "size": 16
          },
          "showarrow": false,
          "text": "Oyster",
          "x": 0.5,
          "xanchor": "center",
          "xref": "paper",
          "y": 1,
          "yanchor": "bottom",
          "yref": "paper"
         },
         {
          "font": {
           "size": 16
          },
          "showarrow": false,
          "text": "Geotube",
          "x": 0.5,
          "xanchor": "center",
          "xref": "paper",
          "y": 0.6333333333333333,
          "yanchor": "bottom",
          "yref": "paper"
         },
         {
          "font": {
           "size": 16
          },
          "showarrow": false,
          "text": "Oyster + Geotube",
          "x": 0.5,
          "xanchor": "center",
          "xref": "paper",
          "y": 0.26666666666666666,
          "yanchor": "bottom",
          "yref": "paper"
         }
        ],
        "margin": {
         "b": 50,
         "l": 20,
         "r": 20,
         "t": 50
        },
        "template": {
         "data": {
          "bar": [
           {
            "error_x": {
             "color": "#2a3f5f"
            },
            "error_y": {
             "color": "#2a3f5f"
            },
            "marker": {
             "line": {
              "color": "#E5ECF6",
              "width": 0.5
             },
             "pattern": {
              "fillmode": "overlay",
              "size": 10,
              "solidity": 0.2
             }
            },
            "type": "bar"
           }
          ],
          "barpolar": [
           {
            "marker": {
             "line": {
              "color": "#E5ECF6",
              "width": 0.5
             },
             "pattern": {
              "fillmode": "overlay",
              "size": 10,
              "solidity": 0.2
             }
            },
            "type": "barpolar"
           }
          ],
          "carpet": [
           {
            "aaxis": {
             "endlinecolor": "#2a3f5f",
             "gridcolor": "white",
             "linecolor": "white",
             "minorgridcolor": "white",
             "startlinecolor": "#2a3f5f"
            },
            "baxis": {
             "endlinecolor": "#2a3f5f",
             "gridcolor": "white",
             "linecolor": "white",
             "minorgridcolor": "white",
             "startlinecolor": "#2a3f5f"
            },
            "type": "carpet"
           }
          ],
          "choropleth": [
           {
            "colorbar": {
             "outlinewidth": 0,
             "ticks": ""
            },
            "type": "choropleth"
           }
          ],
          "contour": [
           {
            "colorbar": {
             "outlinewidth": 0,
             "ticks": ""
            },
            "colorscale": [
             [
              0,
              "#0d0887"
             ],
             [
              0.1111111111111111,
              "#46039f"
             ],
             [
              0.2222222222222222,
              "#7201a8"
             ],
             [
              0.3333333333333333,
              "#9c179e"
             ],
             [
              0.4444444444444444,
              "#bd3786"
             ],
             [
              0.5555555555555556,
              "#d8576b"
             ],
             [
              0.6666666666666666,
              "#ed7953"
             ],
             [
              0.7777777777777778,
              "#fb9f3a"
             ],
             [
              0.8888888888888888,
              "#fdca26"
             ],
             [
              1,
              "#f0f921"
             ]
            ],
            "type": "contour"
           }
          ],
          "contourcarpet": [
           {
            "colorbar": {
             "outlinewidth": 0,
             "ticks": ""
            },
            "type": "contourcarpet"
           }
          ],
          "heatmap": [
           {
            "colorbar": {
             "outlinewidth": 0,
             "ticks": ""
            },
            "colorscale": [
             [
              0,
              "#0d0887"
             ],
             [
              0.1111111111111111,
              "#46039f"
             ],
             [
              0.2222222222222222,
              "#7201a8"
             ],
             [
              0.3333333333333333,
              "#9c179e"
             ],
             [
              0.4444444444444444,
              "#bd3786"
             ],
             [
              0.5555555555555556,
              "#d8576b"
             ],
             [
              0.6666666666666666,
              "#ed7953"
             ],
             [
              0.7777777777777778,
              "#fb9f3a"
             ],
             [
              0.8888888888888888,
              "#fdca26"
             ],
             [
              1,
              "#f0f921"
             ]
            ],
            "type": "heatmap"
           }
          ],
          "heatmapgl": [
           {
            "colorbar": {
             "outlinewidth": 0,
             "ticks": ""
            },
            "colorscale": [
             [
              0,
              "#0d0887"
             ],
             [
              0.1111111111111111,
              "#46039f"
             ],
             [
              0.2222222222222222,
              "#7201a8"
             ],
             [
              0.3333333333333333,
              "#9c179e"
             ],
             [
              0.4444444444444444,
              "#bd3786"
             ],
             [
              0.5555555555555556,
              "#d8576b"
             ],
             [
              0.6666666666666666,
              "#ed7953"
             ],
             [
              0.7777777777777778,
              "#fb9f3a"
             ],
             [
              0.8888888888888888,
              "#fdca26"
             ],
             [
              1,
              "#f0f921"
             ]
            ],
            "type": "heatmapgl"
           }
          ],
          "histogram": [
           {
            "marker": {
             "pattern": {
              "fillmode": "overlay",
              "size": 10,
              "solidity": 0.2
             }
            },
            "type": "histogram"
           }
          ],
          "histogram2d": [
           {
            "colorbar": {
             "outlinewidth": 0,
             "ticks": ""
            },
            "colorscale": [
             [
              0,
              "#0d0887"
             ],
             [
              0.1111111111111111,
              "#46039f"
             ],
             [
              0.2222222222222222,
              "#7201a8"
             ],
             [
              0.3333333333333333,
              "#9c179e"
             ],
             [
              0.4444444444444444,
              "#bd3786"
             ],
             [
              0.5555555555555556,
              "#d8576b"
             ],
             [
              0.6666666666666666,
              "#ed7953"
             ],
             [
              0.7777777777777778,
              "#fb9f3a"
             ],
             [
              0.8888888888888888,
              "#fdca26"
             ],
             [
              1,
              "#f0f921"
             ]
            ],
            "type": "histogram2d"
           }
          ],
          "histogram2dcontour": [
           {
            "colorbar": {
             "outlinewidth": 0,
             "ticks": ""
            },
            "colorscale": [
             [
              0,
              "#0d0887"
             ],
             [
              0.1111111111111111,
              "#46039f"
             ],
             [
              0.2222222222222222,
              "#7201a8"
             ],
             [
              0.3333333333333333,
              "#9c179e"
             ],
             [
              0.4444444444444444,
              "#bd3786"
             ],
             [
              0.5555555555555556,
              "#d8576b"
             ],
             [
              0.6666666666666666,
              "#ed7953"
             ],
             [
              0.7777777777777778,
              "#fb9f3a"
             ],
             [
              0.8888888888888888,
              "#fdca26"
             ],
             [
              1,
              "#f0f921"
             ]
            ],
            "type": "histogram2dcontour"
           }
          ],
          "mesh3d": [
           {
            "colorbar": {
             "outlinewidth": 0,
             "ticks": ""
            },
            "type": "mesh3d"
           }
          ],
          "parcoords": [
           {
            "line": {
             "colorbar": {
              "outlinewidth": 0,
              "ticks": ""
             }
            },
            "type": "parcoords"
           }
          ],
          "pie": [
           {
            "automargin": true,
            "type": "pie"
           }
          ],
          "scatter": [
           {
            "fillpattern": {
             "fillmode": "overlay",
             "size": 10,
             "solidity": 0.2
            },
            "type": "scatter"
           }
          ],
          "scatter3d": [
           {
            "line": {
             "colorbar": {
              "outlinewidth": 0,
              "ticks": ""
             }
            },
            "marker": {
             "colorbar": {
              "outlinewidth": 0,
              "ticks": ""
             }
            },
            "type": "scatter3d"
           }
          ],
          "scattercarpet": [
           {
            "marker": {
             "colorbar": {
              "outlinewidth": 0,
              "ticks": ""
             }
            },
            "type": "scattercarpet"
           }
          ],
          "scattergeo": [
           {
            "marker": {
             "colorbar": {
              "outlinewidth": 0,
              "ticks": ""
             }
            },
            "type": "scattergeo"
           }
          ],
          "scattergl": [
           {
            "marker": {
             "colorbar": {
              "outlinewidth": 0,
              "ticks": ""
             }
            },
            "type": "scattergl"
           }
          ],
          "scattermapbox": [
           {
            "marker": {
             "colorbar": {
              "outlinewidth": 0,
              "ticks": ""
             }
            },
            "type": "scattermapbox"
           }
          ],
          "scatterpolar": [
           {
            "marker": {
             "colorbar": {
              "outlinewidth": 0,
              "ticks": ""
             }
            },
            "type": "scatterpolar"
           }
          ],
          "scatterpolargl": [
           {
            "marker": {
             "colorbar": {
              "outlinewidth": 0,
              "ticks": ""
             }
            },
            "type": "scatterpolargl"
           }
          ],
          "scatterternary": [
           {
            "marker": {
             "colorbar": {
              "outlinewidth": 0,
              "ticks": ""
             }
            },
            "type": "scatterternary"
           }
          ],
          "surface": [
           {
            "colorbar": {
             "outlinewidth": 0,
             "ticks": ""
            },
            "colorscale": [
             [
              0,
              "#0d0887"
             ],
             [
              0.1111111111111111,
              "#46039f"
             ],
             [
              0.2222222222222222,
              "#7201a8"
             ],
             [
              0.3333333333333333,
              "#9c179e"
             ],
             [
              0.4444444444444444,
              "#bd3786"
             ],
             [
              0.5555555555555556,
              "#d8576b"
             ],
             [
              0.6666666666666666,
              "#ed7953"
             ],
             [
              0.7777777777777778,
              "#fb9f3a"
             ],
             [
              0.8888888888888888,
              "#fdca26"
             ],
             [
              1,
              "#f0f921"
             ]
            ],
            "type": "surface"
           }
          ],
          "table": [
           {
            "cells": {
             "fill": {
              "color": "#EBF0F8"
             },
             "line": {
              "color": "white"
             }
            },
            "header": {
             "fill": {
              "color": "#C8D4E3"
             },
             "line": {
              "color": "white"
             }
            },
            "type": "table"
           }
          ]
         },
         "layout": {
          "annotationdefaults": {
           "arrowcolor": "#2a3f5f",
           "arrowhead": 0,
           "arrowwidth": 1
          },
          "autotypenumbers": "strict",
          "coloraxis": {
           "colorbar": {
            "outlinewidth": 0,
            "ticks": ""
           }
          },
          "colorscale": {
           "diverging": [
            [
             0,
             "#8e0152"
            ],
            [
             0.1,
             "#c51b7d"
            ],
            [
             0.2,
             "#de77ae"
            ],
            [
             0.3,
             "#f1b6da"
            ],
            [
             0.4,
             "#fde0ef"
            ],
            [
             0.5,
             "#f7f7f7"
            ],
            [
             0.6,
             "#e6f5d0"
            ],
            [
             0.7,
             "#b8e186"
            ],
            [
             0.8,
             "#7fbc41"
            ],
            [
             0.9,
             "#4d9221"
            ],
            [
             1,
             "#276419"
            ]
           ],
           "sequential": [
            [
             0,
             "#0d0887"
            ],
            [
             0.1111111111111111,
             "#46039f"
            ],
            [
             0.2222222222222222,
             "#7201a8"
            ],
            [
             0.3333333333333333,
             "#9c179e"
            ],
            [
             0.4444444444444444,
             "#bd3786"
            ],
            [
             0.5555555555555556,
             "#d8576b"
            ],
            [
             0.6666666666666666,
             "#ed7953"
            ],
            [
             0.7777777777777778,
             "#fb9f3a"
            ],
            [
             0.8888888888888888,
             "#fdca26"
            ],
            [
             1,
             "#f0f921"
            ]
           ],
           "sequentialminus": [
            [
             0,
             "#0d0887"
            ],
            [
             0.1111111111111111,
             "#46039f"
            ],
            [
             0.2222222222222222,
             "#7201a8"
            ],
            [
             0.3333333333333333,
             "#9c179e"
            ],
            [
             0.4444444444444444,
             "#bd3786"
            ],
            [
             0.5555555555555556,
             "#d8576b"
            ],
            [
             0.6666666666666666,
             "#ed7953"
            ],
            [
             0.7777777777777778,
             "#fb9f3a"
            ],
            [
             0.8888888888888888,
             "#fdca26"
            ],
            [
             1,
             "#f0f921"
            ]
           ]
          },
          "colorway": [
           "#636efa",
           "#EF553B",
           "#00cc96",
           "#ab63fa",
           "#FFA15A",
           "#19d3f3",
           "#FF6692",
           "#B6E880",
           "#FF97FF",
           "#FECB52"
          ],
          "font": {
           "color": "#2a3f5f"
          },
          "geo": {
           "bgcolor": "white",
           "lakecolor": "white",
           "landcolor": "#E5ECF6",
           "showlakes": true,
           "showland": true,
           "subunitcolor": "white"
          },
          "hoverlabel": {
           "align": "left"
          },
          "hovermode": "closest",
          "mapbox": {
           "style": "light"
          },
          "paper_bgcolor": "white",
          "plot_bgcolor": "#E5ECF6",
          "polar": {
           "angularaxis": {
            "gridcolor": "white",
            "linecolor": "white",
            "ticks": ""
           },
           "bgcolor": "#E5ECF6",
           "radialaxis": {
            "gridcolor": "white",
            "linecolor": "white",
            "ticks": ""
           }
          },
          "scene": {
           "xaxis": {
            "backgroundcolor": "#E5ECF6",
            "gridcolor": "white",
            "gridwidth": 2,
            "linecolor": "white",
            "showbackground": true,
            "ticks": "",
            "zerolinecolor": "white"
           },
           "yaxis": {
            "backgroundcolor": "#E5ECF6",
            "gridcolor": "white",
            "gridwidth": 2,
            "linecolor": "white",
            "showbackground": true,
            "ticks": "",
            "zerolinecolor": "white"
           },
           "zaxis": {
            "backgroundcolor": "#E5ECF6",
            "gridcolor": "white",
            "gridwidth": 2,
            "linecolor": "white",
            "showbackground": true,
            "ticks": "",
            "zerolinecolor": "white"
           }
          },
          "shapedefaults": {
           "line": {
            "color": "#2a3f5f"
           }
          },
          "ternary": {
           "aaxis": {
            "gridcolor": "white",
            "linecolor": "white",
            "ticks": ""
           },
           "baxis": {
            "gridcolor": "white",
            "linecolor": "white",
            "ticks": ""
           },
           "bgcolor": "#E5ECF6",
           "caxis": {
            "gridcolor": "white",
            "linecolor": "white",
            "ticks": ""
           }
          },
          "title": {
           "x": 0.05
          },
          "xaxis": {
           "automargin": true,
           "gridcolor": "white",
           "linecolor": "white",
           "ticks": "",
           "title": {
            "standoff": 15
           },
           "zerolinecolor": "white",
           "zerolinewidth": 2
          },
          "yaxis": {
           "automargin": true,
           "gridcolor": "white",
           "linecolor": "white",
           "ticks": "",
           "title": {
            "standoff": 15
           },
           "zerolinecolor": "white",
           "zerolinewidth": 2
          }
         }
        },
        "title": {
         "font": {
          "family": "Times New Roman",
          "size": 32
         },
         "x": 0.5,
         "y": 0.2
        },
        "xaxis": {
         "anchor": "y",
         "domain": [
          0,
          1
         ],
         "matches": "x3",
         "nticks": 10,
         "showticklabels": false,
         "tickformat": "%H:%M"
        },
        "xaxis2": {
         "anchor": "y2",
         "domain": [
          0,
          1
         ],
         "matches": "x3",
         "nticks": 10,
         "showticklabels": false
        },
        "xaxis3": {
         "anchor": "y3",
         "domain": [
          0,
          1
         ],
         "nticks": 10,
         "title": {
          "text": "Time [H:M]"
         }
        },
        "yaxis": {
         "anchor": "x",
         "domain": [
          0.7333333333333334,
          1
         ],
         "range": [
          0,
          0.45
         ],
         "title": {
          "text": "Hs [m]"
         }
        },
        "yaxis2": {
         "anchor": "x2",
         "domain": [
          0.3666666666666667,
          0.6333333333333333
         ],
         "title": {
          "text": "Hs [m]"
         }
        },
        "yaxis3": {
         "anchor": "x3",
         "domain": [
          0,
          0.26666666666666666
         ],
         "title": {
          "text": "Hs [m]"
         }
        }
       }
      }
     },
     "metadata": {},
     "output_type": "display_data"
    }
   ],
   "source": [
    "fig.show()"
   ]
  },
  {
   "cell_type": "code",
   "execution_count": 4,
   "metadata": {},
   "outputs": [],
   "source": [
    "file = pd.read_excel(root / 'boat_runs_with_PWH.xlsx')"
   ]
  },
  {
   "cell_type": "markdown",
   "metadata": {},
   "source": [
    "The figure below illustrates that peak wave heights were consistently higher before the implementation of NNBFs, highlighting the significant impact of these interventions on reducing wave energy. Each point on the graph represents a different run of the boat. Stars indicate heavy loading, while circles represent light loading. The colors signify the boat's speed during each run.\n",
    "\n",
    "If a point appears above the diagonal center line in the figure, it indicates that the peak wave height for that run before the construction of the NNBF was greater than the corresponding peak wave height after the NNBF was built. During the both field experiments, boat weight and speed was changed to put NNBFs under varying conditions. Both boat speed and weight had impacts on wave height but boat speed seemed to have the largest impact. In fact, boat weight only accounted for 30% of the peak wave height. "
   ]
  },
  {
   "cell_type": "code",
   "execution_count": null,
   "metadata": {},
   "outputs": [
    {
     "data": {
      "image/png": "[encoded data removed]",
      "text/plain": [
       "<Figure size 1200x400 with 4 Axes>"
      ]
     },
     "metadata": {},
     "output_type": "display_data"
    }
   ],
   "source": [
    "plt.show()"
   ]
  },
  {
   "cell_type": "markdown",
   "metadata": {},
   "source": [
    "This figure illustrates the percent decrease in peak wave height observed in trials conducted before and after the construction of NNBFs. Similar to the previous figure, the colors indicate different boat speeds, while dotted lines represent trials with heavily loaded boats and solid lines indicate trials with lightly loaded boats. The data reveal a significant difference between the effects of a single NNBF and multiple NNBFs.\n",
    "- At higher speeds, oyster reefs alone resulted in only a 5% decrease in peak wave height.\n",
    "- A combination of NNBFs during the same trial achieved a remarkable 30% reduction. \n",
    "- These findings highlight that the combined use of NNBFs leads to greater wave attenuation. \n",
    "- At lower speeds, the combination of Geotubes™ and oyster reefs demonstrated exceptional effectiveness in the reduction of peak wave height, with percent reductions reaching as high as 80%. "
   ]
  },
  {
   "cell_type": "code",
   "execution_count": null,
   "metadata": {},
   "outputs": [
    {
     "data": {
      "image/png": "[encoded data removed]",
      "text/plain": [
       "<Figure size 1200x400 with 4 Axes>"
      ]
     },
     "metadata": {},
     "output_type": "display_data"
    }
   ],
   "source": [
    "plt.show()"
   ]
  },
  {
   "cell_type": "markdown",
   "metadata": {},
   "source": [
    "### Conclusion\n",
    "Overall, this study found that these innovative NNBFs significantly reduced wave heights in the Whittaker Creek Canal. Boat speed had a greater impact on wave height than vessel weight, but both factors are important. Most notably, combining different NNBFs, like oyster reefs and Geotubes™, improved wave reduction effectiveness, especially at low boat speeds, making them highly effective under low intensity or daily conditions."
   ]
  }
 ],
 "metadata": {
  "kernelspec": {
   "display_name": "Python 3",
   "language": "python",
   "name": "python3"
  },
  "language_info": {
   "codemirror_mode": {
    "name": "ipython",
    "version": 3
   },
   "file_extension": ".py",
   "mimetype": "text/x-python",
   "name": "python",
   "nbconvert_exporter": "python",
   "pygments_lexer": "ipython3",
   "version": "3.12.5"
  },
  "widgets": {
   "application/vnd.jupyter.widget-state+json": {
    "state": {},
    "version_major": 2,
    "version_minor": 0
   }
  }
 },
 "nbformat": 4,
 "nbformat_minor": 2
}
